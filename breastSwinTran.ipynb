{
  "nbformat": 4,
  "nbformat_minor": 0,
  "metadata": {
    "colab": {
      "name": "breastSwinTran.ipynb",
      "provenance": [],
      "machine_shape": "hm"
    },
    "kernelspec": {
      "name": "python3",
      "display_name": "Python 3"
    },
    "language_info": {
      "name": "python"
    },
    "accelerator": "GPU"
  },
  "cells": [
    {
      "cell_type": "code",
      "execution_count": null,
      "metadata": {
        "id": "5o1QqDE9CZv2"
      },
      "outputs": [],
      "source": [
        "from google.colab import drive\n",
        "drive._mount('/content/drive')"
      ]
    },
    {
      "cell_type": "code",
      "source": [
        "!sudo add-apt-repository -y ppa:alessandro-strada/ppa 2>&1 > /dev/null\n",
        "!sudo apt-get update -qq 2>&1 > /dev/null\n",
        "!sudo apt -y install -qq google-drive-ocamlfuse 2>&1 > /dev/null\n",
        "!google-drive-ocamlfuse"
      ],
      "metadata": {
        "colab": {
          "base_uri": "https://localhost:8080/"
        },
        "id": "FOH7Vqf3Co04",
        "outputId": "da382dfe-6fd1-481f-ac7f-99abe4153a94"
      },
      "execution_count": 1,
      "outputs": [
        {
          "output_type": "stream",
          "name": "stdout",
          "text": [
            "\n",
            "WARNING: apt does not have a stable CLI interface. Use with caution in scripts.\n",
            "\n",
            "debconf: unable to initialize frontend: Dialog\n",
            "debconf: (No usable dialog-like program is installed, so the dialog based frontend cannot be used. at /usr/share/perl5/Debconf/FrontEnd/Dialog.pm line 76, <> line 1.)\n",
            "debconf: falling back to frontend: Readline\n",
            "debconf: unable to initialize frontend: Readline\n",
            "debconf: (This frontend requires a controlling tty.)\n",
            "debconf: falling back to frontend: Teletype\n",
            "dpkg-preconfigure: unable to re-open stdin: \n",
            "/usr/bin/xdg-open: 851: /usr/bin/xdg-open: www-browser: not found\n",
            "/usr/bin/xdg-open: 851: /usr/bin/xdg-open: links2: not found\n",
            "/usr/bin/xdg-open: 851: /usr/bin/xdg-open: elinks: not found\n",
            "/usr/bin/xdg-open: 851: /usr/bin/xdg-open: links: not found\n",
            "/usr/bin/xdg-open: 851: /usr/bin/xdg-open: lynx: not found\n",
            "/usr/bin/xdg-open: 851: /usr/bin/xdg-open: w3m: not found\n",
            "xdg-open: no method available for opening 'https://accounts.google.com/o/oauth2/auth?client_id=564921029129.apps.googleusercontent.com&redirect_uri=https%3A%2F%2Fgd-ocaml-auth.appspot.com%2Foauth2callback&scope=https%3A%2F%2Fwww.googleapis.com%2Fauth%2Fdrive&response_type=code&access_type=offline&approval_prompt=force&state=GdJ7O%2FTodrTDbuG7oTgA9FzY4d2zQDNA6OH7CjFxkCg'\n",
            "/bin/sh: 1: firefox: not found\n",
            "/bin/sh: 1: google-chrome: not found\n",
            "/bin/sh: 1: chromium-browser: not found\n",
            "/bin/sh: 1: open: not found\n",
            "Cannot retrieve auth tokens.\n",
            "Failure(\"Error opening URL:https://accounts.google.com/o/oauth2/auth?client_id=564921029129.apps.googleusercontent.com&redirect_uri=https%3A%2F%2Fgd-ocaml-auth.appspot.com%2Foauth2callback&scope=https%3A%2F%2Fwww.googleapis.com%2Fauth%2Fdrive&response_type=code&access_type=offline&approval_prompt=force&state=GdJ7O%2FTodrTDbuG7oTgA9FzY4d2zQDNA6OH7CjFxkCg\")\n"
          ]
        }
      ]
    },
    {
      "cell_type": "code",
      "source": [
        "!sudo apt-get install -qq w3m # to act as web browser \n",
        "!xdg-settings set default-web-browser w3m.desktop # to set default browser\n",
        "%cd /content\n",
        "!mkdir drive\n",
        "%cd drive\n",
        "!mkdir MyDrive\n",
        "%cd ..\n",
        "%cd ..\n",
        "!google-drive-ocamlfuse /content/drive/MyDrive"
      ],
      "metadata": {
        "colab": {
          "base_uri": "https://localhost:8080/"
        },
        "id": "4TD7aXx5Cupk",
        "outputId": "025265cf-d97a-4598-dba0-13d94b31bb6e"
      },
      "execution_count": 2,
      "outputs": [
        {
          "output_type": "stream",
          "name": "stdout",
          "text": [
            "debconf: unable to initialize frontend: Dialog\n",
            "debconf: (No usable dialog-like program is installed, so the dialog based frontend cannot be used. at /usr/share/perl5/Debconf/FrontEnd/Dialog.pm line 76, <> line 2.)\n",
            "debconf: falling back to frontend: Readline\n",
            "debconf: unable to initialize frontend: Readline\n",
            "debconf: (This frontend requires a controlling tty.)\n",
            "debconf: falling back to frontend: Teletype\n",
            "dpkg-preconfigure: unable to re-open stdin: \n",
            "Selecting previously unselected package libgpm2:amd64.\n",
            "(Reading database ... 155519 files and directories currently installed.)\n",
            "Preparing to unpack .../libgpm2_1.20.7-5_amd64.deb ...\n",
            "Unpacking libgpm2:amd64 (1.20.7-5) ...\n",
            "Selecting previously unselected package w3m.\n",
            "Preparing to unpack .../w3m_0.5.3-36build1_amd64.deb ...\n",
            "Unpacking w3m (0.5.3-36build1) ...\n",
            "Setting up libgpm2:amd64 (1.20.7-5) ...\n",
            "Setting up w3m (0.5.3-36build1) ...\n",
            "Processing triggers for mime-support (3.60ubuntu1) ...\n",
            "Processing triggers for libc-bin (2.27-3ubuntu1.3) ...\n",
            "/sbin/ldconfig.real: /usr/local/lib/python3.7/dist-packages/ideep4py/lib/libmkldnn.so.0 is not a symbolic link\n",
            "\n",
            "Processing triggers for man-db (2.8.3-2ubuntu0.1) ...\n",
            "/content\n",
            "/content/drive\n",
            "/content\n",
            "/\n",
            "Access token retrieved correctly.\n"
          ]
        }
      ]
    },
    {
      "cell_type": "code",
      "source": [
        "!pip install vit-keras\n",
        "!pip install tensorflow-addons"
      ],
      "metadata": {
        "colab": {
          "base_uri": "https://localhost:8080/"
        },
        "id": "stBTLi-eYDPf",
        "outputId": "defc6e28-69d4-49c2-eba0-085492d8c0c7"
      },
      "execution_count": 3,
      "outputs": [
        {
          "output_type": "stream",
          "name": "stdout",
          "text": [
            "Requirement already satisfied: vit-keras in /usr/local/lib/python3.7/dist-packages (0.1.0)\n",
            "Requirement already satisfied: scipy in /usr/local/lib/python3.7/dist-packages (from vit-keras) (1.4.1)\n",
            "Requirement already satisfied: validators in /usr/local/lib/python3.7/dist-packages (from vit-keras) (0.18.2)\n",
            "Requirement already satisfied: numpy>=1.13.3 in /usr/local/lib/python3.7/dist-packages (from scipy->vit-keras) (1.21.6)\n",
            "Requirement already satisfied: six>=1.4.0 in /usr/local/lib/python3.7/dist-packages (from validators->vit-keras) (1.15.0)\n",
            "Requirement already satisfied: decorator>=3.4.0 in /usr/local/lib/python3.7/dist-packages (from validators->vit-keras) (4.4.2)\n",
            "Requirement already satisfied: tensorflow-addons in /usr/local/lib/python3.7/dist-packages (0.16.1)\n",
            "Requirement already satisfied: typeguard>=2.7 in /usr/local/lib/python3.7/dist-packages (from tensorflow-addons) (2.7.1)\n"
          ]
        }
      ]
    },
    {
      "cell_type": "code",
      "source": [
        "!git clone https://github.com/rishigami/Swin-Transformer-TF.git"
      ],
      "metadata": {
        "colab": {
          "base_uri": "https://localhost:8080/"
        },
        "id": "1eE2Rli2Sk1N",
        "outputId": "cbf6c06d-5def-4326-f989-9040e8574dcd"
      },
      "execution_count": 1,
      "outputs": [
        {
          "output_type": "stream",
          "name": "stdout",
          "text": [
            "Cloning into 'Swin-Transformer-TF'...\n",
            "remote: Enumerating objects: 44, done.\u001b[K\n",
            "remote: Counting objects: 100% (18/18), done.\u001b[K\n",
            "remote: Compressing objects: 100% (11/11), done.\u001b[K\n",
            "remote: Total 44 (delta 15), reused 7 (delta 7), pack-reused 26\u001b[K\n",
            "Unpacking objects: 100% (44/44), done.\n"
          ]
        }
      ]
    },
    {
      "cell_type": "code",
      "source": [
        "import tensorflow as tf\n",
        "import os\n",
        "import sys\n",
        "sys.path.append('/content/Swin-Transformer-TF')\n",
        "from swintransformer import SwinTransformer\n",
        "import numpy as np\n",
        "import matplotlib.pyplot as plt\n",
        "from sklearn.model_selection import RepeatedStratifiedKFold, train_test_split\n",
        "#from vit_keras import vit, utils, visualize"
      ],
      "metadata": {
        "id": "2wuCv6sgDabR"
      },
      "execution_count": 2,
      "outputs": []
    },
    {
      "cell_type": "code",
      "source": [
        "import cv2\n",
        "from vit_keras import vit, utils, visualize"
      ],
      "metadata": {
        "id": "vLuCHRk7U_yv"
      },
      "execution_count": 4,
      "outputs": []
    },
    {
      "cell_type": "code",
      "source": [
        "data_dir = '/content/drive/MyDrive/Datasets/Dataset_BUSI_with_GT'\n",
        "normal_path = os.path.join(data_dir, 'normal')\n",
        "benign_path = os.path.join(data_dir, 'benign')\n",
        "malignant_path = os.path.join(data_dir, 'malignant')"
      ],
      "metadata": {
        "id": "AYSVqs_3DERQ"
      },
      "execution_count": 5,
      "outputs": []
    },
    {
      "cell_type": "code",
      "source": [
        "def get_mat_from_images(path, tag, sizex, sizey):\n",
        "  images = np.sort(os.listdir(path))\n",
        "  mat = []\n",
        "  for image in images:\n",
        "    if image.endswith(').png'):\n",
        "      #print(image)\n",
        "      image_data = cv2.resize(cv2.imread(os.path.join(path, image), 0), (sizex, sizey))\n",
        "      image_data = np.float32(image_data)\n",
        "      mat.append(image_data)\n",
        "      #print(image_data.shape)\n",
        "      #print(image_data.dtype)\n",
        "\n",
        "  print(f'shape of the {tag} is {np.array(mat).shape}')\n",
        "  return np.array(mat)"
      ],
      "metadata": {
        "id": "7SotXQV8D1Cc"
      },
      "execution_count": 6,
      "outputs": []
    },
    {
      "cell_type": "code",
      "source": [
        "sizex, sizey = 224, 224\n",
        "normal_mat = get_mat_from_images(normal_path, 'normal', sizex, sizey)\n",
        "benign_mat = get_mat_from_images(benign_path, 'benign', sizex, sizey)\n",
        "malignant_mat = get_mat_from_images(malignant_path, 'malignant', sizex, sizey)"
      ],
      "metadata": {
        "colab": {
          "base_uri": "https://localhost:8080/"
        },
        "id": "7SSe7uA7H3Bb",
        "outputId": "a1fb7e74-6147-48c4-90bf-417c4c575baa"
      },
      "execution_count": 7,
      "outputs": [
        {
          "output_type": "stream",
          "name": "stdout",
          "text": [
            "shape of the normal is (133, 224, 224)\n",
            "shape of the benign is (437, 224, 224)\n",
            "shape of the malignant is (210, 224, 224)\n"
          ]
        }
      ]
    },
    {
      "cell_type": "code",
      "source": [
        "plt.imshow(np.squeeze(malignant_mat[179, :, :]), cmap = 'gray')\n",
        "plt.show()"
      ],
      "metadata": {
        "colab": {
          "base_uri": "https://localhost:8080/",
          "height": 269
        },
        "id": "0QDpCkcMOplR",
        "outputId": "e824610b-c44c-41a1-a719-122eb975af66"
      },
      "execution_count": 8,
      "outputs": [
        {
          "output_type": "display_data",
          "data": {
            "text/plain": [
              "<Figure size 432x288 with 1 Axes>"
            ],
            "image/png": "[encoded data removed]"
          },
          "metadata": {
            "needs_background": "light"
          }
        }
      ]
    },
    {
      "cell_type": "code",
      "source": [
        "normal_labels = np.zeros(np.shape(normal_mat)[0])\n",
        "benign_labels = np.ones(np.shape(benign_mat)[0])\n",
        "malignant_labels = 2 * np.ones(np.shape(malignant_mat)[0])"
      ],
      "metadata": {
        "id": "SUg5PLolPfYb"
      },
      "execution_count": 9,
      "outputs": []
    },
    {
      "cell_type": "code",
      "source": [
        "# all data\n",
        "X = np.concatenate((normal_mat, benign_mat, malignant_mat))\n",
        "#X = np.expand_dims(X, axis = -1)\n",
        "X = np.repeat(X[..., np.newaxis], 3, -1)\n",
        "y = np.concatenate((normal_labels, benign_labels, malignant_labels))\n",
        "print(X.shape, y.shape)\n",
        "print(np.min(X), np.max(X)) # data is already scaled between 0 and 255"
      ],
      "metadata": {
        "colab": {
          "base_uri": "https://localhost:8080/"
        },
        "id": "2wap0jnmQCiC",
        "outputId": "cbd3f997-af68-4ef3-e2e4-cc1e2de9f30e"
      },
      "execution_count": 10,
      "outputs": [
        {
          "output_type": "stream",
          "name": "stdout",
          "text": [
            "(780, 224, 224, 3) (780,)\n",
            "0.0 255.0\n"
          ]
        }
      ]
    },
    {
      "cell_type": "code",
      "source": [
        "X = vit.preprocess_inputs(X)\n",
        "print(np.min(X))\n",
        "print(np.max(X))"
      ],
      "metadata": {
        "colab": {
          "base_uri": "https://localhost:8080/"
        },
        "id": "6K3hENjLhXx0",
        "outputId": "c0105222-a50c-4bcb-ed3a-29890370e68e"
      },
      "execution_count": 11,
      "outputs": [
        {
          "output_type": "stream",
          "name": "stdout",
          "text": [
            "-1.0\n",
            "1.0\n"
          ]
        }
      ]
    },
    {
      "cell_type": "code",
      "source": [
        "resolution = X.shape[1]"
      ],
      "metadata": {
        "id": "_YgOlexoTJEo"
      },
      "execution_count": 12,
      "outputs": []
    },
    {
      "cell_type": "code",
      "source": [
        "IMAGE_SIZE = [resolution, resolution, 3]\n",
        "NUM_CLASSES = 3\n",
        "\n",
        "swin_vit = SwinTransformer('swin_large_224', include_top=False, pretrained=True)\n",
        "\n",
        "model = tf.keras.Sequential()\n",
        "model.add(tf.keras.Input(shape = IMAGE_SIZE))\n",
        "model.add(swin_vit)\n",
        "model.add(tf.keras.layers.Dense(NUM_CLASSES, activation='softmax'))\n",
        "\n",
        "model.build(IMAGE_SIZE)"
      ],
      "metadata": {
        "colab": {
          "base_uri": "https://localhost:8080/"
        },
        "id": "JGmG6z2LTH8E",
        "outputId": "b37effa8-7c36-44aa-8d91-e2ea3c9fa17a"
      },
      "execution_count": 79,
      "outputs": [
        {
          "output_type": "stream",
          "name": "stdout",
          "text": [
            "Downloading data from https://github.com/rishigami/Swin-Transformer-TF/releases/download/v0.1-tf-swin-weights/swin_large_224.tgz\n",
            "722599936/722592300 [==============================] - 52s 0us/step\n",
            "722608128/722592300 [==============================] - 52s 0us/step\n"
          ]
        }
      ]
    },
    {
      "cell_type": "code",
      "source": [
        "#model.build(IMAGE_SIZE)\n",
        "model.summary()\n",
        "\n",
        "model.compile(optimizer = tf.keras.optimizers.Adadelta(learning_rate = 0.1), loss = 'sparse_categorical_crossentropy', metrics = ['accuracy'])"
      ],
      "metadata": {
        "colab": {
          "base_uri": "https://localhost:8080/"
        },
        "id": "QQz7OxuCTOBK",
        "outputId": "d03c7c9f-579d-4c70-efbe-f1138b8bbf8d"
      },
      "execution_count": 80,
      "outputs": [
        {
          "output_type": "stream",
          "name": "stdout",
          "text": [
            "Model: \"sequential_41\"\n",
            "_________________________________________________________________\n",
            " Layer (type)                Output Shape              Param #   \n",
            "=================================================================\n",
            " swin_large_224 (SwinTransfo  (None, 1536)             195331616 \n",
            " rmerModel)                                                      \n",
            "                                                                 \n",
            " dense_6 (Dense)             (None, 3)                 4611      \n",
            "                                                                 \n",
            "=================================================================\n",
            "Total params: 195,336,227\n",
            "Trainable params: 195,000,087\n",
            "Non-trainable params: 336,140\n",
            "_________________________________________________________________\n"
          ]
        }
      ]
    },
    {
      "cell_type": "code",
      "source": [
        "x_train, x_test, y_train, y_test = train_test_split(X, y, test_size = 0.2)\n",
        "\n",
        "#print(f'{y_train}')\n",
        "\n",
        "#print(f'{y_test}')"
      ],
      "metadata": {
        "id": "DV6WR_JHh8ga"
      },
      "execution_count": 29,
      "outputs": []
    },
    {
      "cell_type": "code",
      "source": [
        "model.fit(x_train, y_train, batch_size = 8, epochs = 20, validation_split = 0.10)"
      ],
      "metadata": {
        "colab": {
          "base_uri": "https://localhost:8080/"
        },
        "id": "Kc_x8Q_VUxiF",
        "outputId": "a371adc3-86da-48e2-f1ae-e55365c1e510"
      },
      "execution_count": 82,
      "outputs": [
        {
          "output_type": "stream",
          "name": "stdout",
          "text": [
            "Epoch 1/20\n",
            "71/71 [==============================] - 58s 820ms/step - loss: 0.8203 - accuracy: 0.6310 - val_loss: 1.9210 - val_accuracy: 0.2698\n",
            "Epoch 2/20\n",
            "71/71 [==============================] - 55s 770ms/step - loss: 0.5102 - accuracy: 0.7754 - val_loss: 0.7720 - val_accuracy: 0.6508\n",
            "Epoch 3/20\n",
            "71/71 [==============================] - 56s 784ms/step - loss: 0.2541 - accuracy: 0.9162 - val_loss: 0.7467 - val_accuracy: 0.7937\n",
            "Epoch 4/20\n",
            "71/71 [==============================] - 56s 788ms/step - loss: 0.1665 - accuracy: 0.9447 - val_loss: 0.3928 - val_accuracy: 0.8889\n",
            "Epoch 5/20\n",
            "71/71 [==============================] - 56s 793ms/step - loss: 0.0970 - accuracy: 0.9679 - val_loss: 0.4743 - val_accuracy: 0.8413\n",
            "Epoch 6/20\n",
            "71/71 [==============================] - 56s 794ms/step - loss: 0.0337 - accuracy: 0.9893 - val_loss: 0.3976 - val_accuracy: 0.8730\n",
            "Epoch 7/20\n",
            "71/71 [==============================] - 57s 797ms/step - loss: 0.0191 - accuracy: 0.9947 - val_loss: 0.4717 - val_accuracy: 0.8889\n",
            "Epoch 8/20\n",
            "71/71 [==============================] - 57s 799ms/step - loss: 0.0108 - accuracy: 0.9964 - val_loss: 0.4647 - val_accuracy: 0.8730\n",
            "Epoch 9/20\n",
            "71/71 [==============================] - 57s 799ms/step - loss: 0.0086 - accuracy: 0.9964 - val_loss: 0.5334 - val_accuracy: 0.9048\n",
            "Epoch 10/20\n",
            "71/71 [==============================] - 57s 798ms/step - loss: 0.0052 - accuracy: 0.9964 - val_loss: 0.5856 - val_accuracy: 0.8889\n",
            "Epoch 11/20\n",
            "71/71 [==============================] - 57s 798ms/step - loss: 0.0036 - accuracy: 0.9982 - val_loss: 0.5297 - val_accuracy: 0.8730\n",
            "Epoch 12/20\n",
            "71/71 [==============================] - 57s 799ms/step - loss: 0.0046 - accuracy: 0.9964 - val_loss: 0.5734 - val_accuracy: 0.8413\n",
            "Epoch 13/20\n",
            "71/71 [==============================] - 57s 799ms/step - loss: 0.0035 - accuracy: 0.9964 - val_loss: 0.6413 - val_accuracy: 0.8730\n",
            "Epoch 14/20\n",
            "71/71 [==============================] - 57s 799ms/step - loss: 0.0049 - accuracy: 0.9964 - val_loss: 0.5775 - val_accuracy: 0.8730\n",
            "Epoch 15/20\n",
            "71/71 [==============================] - 57s 799ms/step - loss: 0.0036 - accuracy: 0.9982 - val_loss: 0.6793 - val_accuracy: 0.8730\n",
            "Epoch 16/20\n",
            "71/71 [==============================] - 57s 798ms/step - loss: 0.0049 - accuracy: 0.9982 - val_loss: 0.6595 - val_accuracy: 0.8413\n",
            "Epoch 17/20\n",
            "71/71 [==============================] - 57s 798ms/step - loss: 0.0032 - accuracy: 0.9982 - val_loss: 0.6587 - val_accuracy: 0.8730\n",
            "Epoch 18/20\n",
            "71/71 [==============================] - 57s 800ms/step - loss: 0.0038 - accuracy: 0.9964 - val_loss: 0.6868 - val_accuracy: 0.8889\n",
            "Epoch 19/20\n",
            "71/71 [==============================] - 57s 801ms/step - loss: 0.0039 - accuracy: 0.9982 - val_loss: 0.7164 - val_accuracy: 0.8571\n",
            "Epoch 20/20\n",
            "71/71 [==============================] - 57s 799ms/step - loss: 0.0033 - accuracy: 0.9982 - val_loss: 0.7174 - val_accuracy: 0.8571\n"
          ]
        },
        {
          "output_type": "execute_result",
          "data": {
            "text/plain": [
              "<keras.callbacks.History at 0x7f5d2ce55190>"
            ]
          },
          "metadata": {},
          "execution_count": 82
        }
      ]
    },
    {
      "cell_type": "code",
      "source": [
        "model.evaluate(x_test, y_test)"
      ],
      "metadata": {
        "colab": {
          "base_uri": "https://localhost:8080/"
        },
        "id": "3lu_M_tzU2RA",
        "outputId": "ff0da1ca-b3d5-41c4-f781-f7773e5d090b"
      },
      "execution_count": 83,
      "outputs": [
        {
          "output_type": "stream",
          "name": "stdout",
          "text": [
            "5/5 [==============================] - 5s 916ms/step - loss: 0.7057 - accuracy: 0.8974\n"
          ]
        },
        {
          "output_type": "execute_result",
          "data": {
            "text/plain": [
              "[0.7056519389152527, 0.8974359035491943]"
            ]
          },
          "metadata": {},
          "execution_count": 83
        }
      ]
    },
    {
      "cell_type": "code",
      "source": [
        "y_pred = model.predict(x_test)"
      ],
      "metadata": {
        "id": "MPD16uOiHNJ3"
      },
      "execution_count": 84,
      "outputs": []
    },
    {
      "cell_type": "code",
      "source": [
        "y_prob = np.argmax(y_pred, axis = 1)"
      ],
      "metadata": {
        "id": "SDM5gL8lJdWb"
      },
      "execution_count": 85,
      "outputs": []
    },
    {
      "cell_type": "code",
      "source": [
        "import sklearn"
      ],
      "metadata": {
        "id": "Aa_1BKV-IPQg"
      },
      "execution_count": 38,
      "outputs": []
    },
    {
      "cell_type": "code",
      "source": [
        "print(f'Accuracy {sklearn.metrics.accuracy_score(y_test, y_prob)}')\n",
        "AUC = sklearn.metrics.roc_auc_score(y_test, y_pred, multi_class='ovo')\n",
        "print(f'AUC is {AUC}')\n",
        "target_names = ['normal', 'benign', 'malignant']\n",
        "print('F1-score', sklearn.metrics.f1_score(y_test, y_prob, average = 'micro'))\n",
        "print(f'Balanced accuracy {sklearn.metrics.balanced_accuracy_score(y_test, y_prob)}')\n",
        "print(f'MCC {sklearn.metrics.matthews_corrcoef(y_test, y_prob)}')\n",
        "print(f'{sklearn.metrics.classification_report(y_test, y_prob, target_names=target_names)}')"
      ],
      "metadata": {
        "colab": {
          "base_uri": "https://localhost:8080/"
        },
        "id": "Ja-iwaeEIUr8",
        "outputId": "41f7b898-0aa6-43c1-ae02-5719ede56546"
      },
      "execution_count": 86,
      "outputs": [
        {
          "output_type": "stream",
          "name": "stdout",
          "text": [
            "Accuracy 0.8974358974358975\n",
            "AUC is 0.96770911360799\n",
            "F1-score 0.8974358974358975\n",
            "Balanced accuracy 0.8747957909755663\n",
            "MCC 0.8219225228600209\n",
            "              precision    recall  f1-score   support\n",
            "\n",
            "      normal       0.96      0.92      0.94        25\n",
            "      benign       0.87      0.97      0.91        89\n",
            "   malignant       0.94      0.74      0.83        42\n",
            "\n",
            "    accuracy                           0.90       156\n",
            "   macro avg       0.92      0.87      0.89       156\n",
            "weighted avg       0.90      0.90      0.89       156\n",
            "\n"
          ]
        }
      ]
    }
  ]
}