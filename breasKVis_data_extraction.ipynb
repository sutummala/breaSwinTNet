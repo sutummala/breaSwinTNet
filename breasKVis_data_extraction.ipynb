{
  "cells": [
    {
      "cell_type": "markdown",
      "metadata": {
        "id": "view-in-github",
        "colab_type": "text"
      },
      "source": [
        "<a href=\"https://colab.research.google.com/github/sutummala/breaSwinTNet/blob/main/breasKVis_data_extraction.ipynb\" target=\"_parent\"><img src=\"https://colab.research.google.com/assets/colab-badge.svg\" alt=\"Open In Colab\"/></a>"
      ]
    },
    {
      "cell_type": "code",
      "execution_count": 5,
      "metadata": {
        "colab": {
          "base_uri": "https://localhost:8080/"
        },
        "id": "b6lel8u9OQL4",
        "outputId": "d5093236-f4c3-4d54-dadb-e373fc3ba431"
      },
      "outputs": [
        {
          "output_type": "stream",
          "name": "stdout",
          "text": [
            "\n",
            "WARNING: apt does not have a stable CLI interface. Use with caution in scripts.\n",
            "\n",
            "debconf: unable to initialize frontend: Dialog\n",
            "debconf: (No usable dialog-like program is installed, so the dialog based frontend cannot be used. at /usr/share/perl5/Debconf/FrontEnd/Dialog.pm line 76, <> line 1.)\n",
            "debconf: falling back to frontend: Readline\n",
            "debconf: unable to initialize frontend: Readline\n",
            "debconf: (This frontend requires a controlling tty.)\n",
            "debconf: falling back to frontend: Teletype\n",
            "dpkg-preconfigure: unable to re-open stdin: \n",
            "/usr/bin/xdg-open: 851: /usr/bin/xdg-open: www-browser: not found\n",
            "/usr/bin/xdg-open: 851: /usr/bin/xdg-open: links2: not found\n",
            "/usr/bin/xdg-open: 851: /usr/bin/xdg-open: elinks: not found\n",
            "/usr/bin/xdg-open: 851: /usr/bin/xdg-open: links: not found\n",
            "/usr/bin/xdg-open: 851: /usr/bin/xdg-open: lynx: not found\n",
            "/usr/bin/xdg-open: 851: /usr/bin/xdg-open: w3m: not found\n",
            "xdg-open: no method available for opening 'https://accounts.google.com/o/oauth2/auth?client_id=564921029129.apps.googleusercontent.com&redirect_uri=https%3A%2F%2Fgd-ocaml-auth.appspot.com%2Foauth2callback&scope=https%3A%2F%2Fwww.googleapis.com%2Fauth%2Fdrive&response_type=code&access_type=offline&approval_prompt=force&state=f6v-SKiGcGKu%2FAJs23AM0NStBU%2FJItKNx3uP4S25lus'\n",
            "/bin/sh: 1: firefox: not found\n",
            "/bin/sh: 1: google-chrome: not found\n",
            "/bin/sh: 1: chromium-browser: not found\n",
            "/bin/sh: 1: open: not found\n",
            "Cannot retrieve auth tokens.\n",
            "Failure(\"Error opening URL:https://accounts.google.com/o/oauth2/auth?client_id=564921029129.apps.googleusercontent.com&redirect_uri=https%3A%2F%2Fgd-ocaml-auth.appspot.com%2Foauth2callback&scope=https%3A%2F%2Fwww.googleapis.com%2Fauth%2Fdrive&response_type=code&access_type=offline&approval_prompt=force&state=f6v-SKiGcGKu%2FAJs23AM0NStBU%2FJItKNx3uP4S25lus\")\n"
          ]
        }
      ],
      "source": [
        "!sudo add-apt-repository -y ppa:alessandro-strada/ppa 2>&1 > /dev/null\n",
        "!sudo apt-get update -qq 2>&1 > /dev/null\n",
        "!sudo apt -y install -qq google-drive-ocamlfuse 2>&1 > /dev/null\n",
        "!google-drive-ocamlfuse"
      ]
    },
    {
      "cell_type": "code",
      "execution_count": 6,
      "metadata": {
        "colab": {
          "base_uri": "https://localhost:8080/"
        },
        "id": "1wzmv13pOdHy",
        "outputId": "958b4b64-1cad-4212-eef7-17f0479a76ec"
      },
      "outputs": [
        {
          "output_type": "stream",
          "name": "stdout",
          "text": [
            "debconf: unable to initialize frontend: Dialog\n",
            "debconf: (No usable dialog-like program is installed, so the dialog based frontend cannot be used. at /usr/share/perl5/Debconf/FrontEnd/Dialog.pm line 76, <> line 2.)\n",
            "debconf: falling back to frontend: Readline\n",
            "debconf: unable to initialize frontend: Readline\n",
            "debconf: (This frontend requires a controlling tty.)\n",
            "debconf: falling back to frontend: Teletype\n",
            "dpkg-preconfigure: unable to re-open stdin: \n",
            "Selecting previously unselected package libgpm2:amd64.\n",
            "(Reading database ... 155207 files and directories currently installed.)\n",
            "Preparing to unpack .../libgpm2_1.20.7-5_amd64.deb ...\n",
            "Unpacking libgpm2:amd64 (1.20.7-5) ...\n",
            "Selecting previously unselected package w3m.\n",
            "Preparing to unpack .../w3m_0.5.3-36build1_amd64.deb ...\n",
            "Unpacking w3m (0.5.3-36build1) ...\n",
            "Setting up libgpm2:amd64 (1.20.7-5) ...\n",
            "Setting up w3m (0.5.3-36build1) ...\n",
            "Processing triggers for mime-support (3.60ubuntu1) ...\n",
            "Processing triggers for libc-bin (2.27-3ubuntu1.3) ...\n",
            "/sbin/ldconfig.real: /usr/local/lib/python3.7/dist-packages/ideep4py/lib/libmkldnn.so.0 is not a symbolic link\n",
            "\n",
            "Processing triggers for man-db (2.8.3-2ubuntu0.1) ...\n",
            "/content\n",
            "/content/drive\n",
            "/content\n",
            "/\n",
            "Access token retrieved correctly.\n"
          ]
        }
      ],
      "source": [
        "!sudo apt-get install -qq w3m # to act as web browser \n",
        "!xdg-settings set default-web-browser w3m.desktop # to set default browser\n",
        "%cd /content\n",
        "!mkdir drive\n",
        "%cd drive\n",
        "!mkdir MyDrive\n",
        "%cd ..\n",
        "%cd ..\n",
        "!google-drive-ocamlfuse /content/drive/MyDrive"
      ]
    },
    {
      "cell_type": "code",
      "execution_count": 2,
      "metadata": {
        "colab": {
          "base_uri": "https://localhost:8080/"
        },
        "id": "BQdQPb0DWfBc",
        "outputId": "01597332-5b00-48fd-af6b-4b371a9bf107"
      },
      "outputs": [
        {
          "output_type": "stream",
          "name": "stdout",
          "text": [
            "Collecting vit-keras\n",
            "  Downloading vit_keras-0.1.0-py3-none-any.whl (24 kB)\n",
            "Collecting validators\n",
            "  Downloading validators-0.18.2-py3-none-any.whl (19 kB)\n",
            "Requirement already satisfied: scipy in /usr/local/lib/python3.7/dist-packages (from vit-keras) (1.4.1)\n",
            "Requirement already satisfied: numpy>=1.13.3 in /usr/local/lib/python3.7/dist-packages (from scipy->vit-keras) (1.21.6)\n",
            "Requirement already satisfied: six>=1.4.0 in /usr/local/lib/python3.7/dist-packages (from validators->vit-keras) (1.15.0)\n",
            "Requirement already satisfied: decorator>=3.4.0 in /usr/local/lib/python3.7/dist-packages (from validators->vit-keras) (4.4.2)\n",
            "Installing collected packages: validators, vit-keras\n",
            "Successfully installed validators-0.18.2 vit-keras-0.1.0\n",
            "Collecting tensorflow-addons\n",
            "  Downloading tensorflow_addons-0.16.1-cp37-cp37m-manylinux_2_12_x86_64.manylinux2010_x86_64.whl (1.1 MB)\n",
            "\u001b[K     |████████████████████████████████| 1.1 MB 14.3 MB/s \n",
            "\u001b[?25hRequirement already satisfied: typeguard>=2.7 in /usr/local/lib/python3.7/dist-packages (from tensorflow-addons) (2.7.1)\n",
            "Installing collected packages: tensorflow-addons\n",
            "Successfully installed tensorflow-addons-0.16.1\n"
          ]
        }
      ],
      "source": [
        "!pip install vit-keras\n",
        "!pip install tensorflow-addons"
      ]
    },
    {
      "cell_type": "code",
      "execution_count": null,
      "metadata": {
        "colab": {
          "base_uri": "https://localhost:8080/"
        },
        "id": "8fVAywZSWZez",
        "outputId": "716ab5b6-c280-4174-f55e-c3de94996dc5"
      },
      "outputs": [
        {
          "name": "stdout",
          "output_type": "stream",
          "text": [
            "fatal: destination path 'Swin-Transformer-TF' already exists and is not an empty directory.\n"
          ]
        }
      ],
      "source": [
        "!git clone https://github.com/rishigami/Swin-Transformer-TF.git"
      ]
    },
    {
      "cell_type": "code",
      "execution_count": null,
      "metadata": {
        "id": "A6FXQfejWVH1"
      },
      "outputs": [],
      "source": [
        "import sys\n",
        "sys.path.append('/content/Swin-Transformer-TF')\n",
        "from swintransformer import SwinTransformer"
      ]
    },
    {
      "cell_type": "code",
      "execution_count": 3,
      "metadata": {
        "id": "Vtg0_00dPSDf"
      },
      "outputs": [],
      "source": [
        "import os\n",
        "import numpy as np\n",
        "import cv2\n",
        "import tensorflow as tf\n",
        "from sklearn.model_selection import RepeatedStratifiedKFold, train_test_split\n",
        "from vit_keras import vit, utils, visualize"
      ]
    },
    {
      "cell_type": "code",
      "execution_count": null,
      "metadata": {
        "id": "wF4Y4RjhOu_V"
      },
      "outputs": [],
      "source": [
        "data_dir_benign = '/content/drive/MyDrive/Datasets/breaKVis/benign/SOB'\n",
        "data_dir_malignant = '/content/drive/MyDrive/Datasets/breaKVis/malignant/SOB'"
      ]
    },
    {
      "cell_type": "code",
      "execution_count": null,
      "metadata": {
        "id": "sGm84GJJVjnJ"
      },
      "outputs": [],
      "source": [
        "def extract_images(path, sizex, sizey):\n",
        "  data = []\n",
        "  folders = sorted(os.listdir(path))\n",
        "  for folder in folders:\n",
        "    for final_folder in os.listdir(os.path.join(path, folder)):\n",
        "      for file in os.listdir(os.path.join(path, folder, final_folder)):\n",
        "        mat_file = cv2.imread(os.path.join(path, folder, final_folder, file))\n",
        "        data.append(cv2.resize(mat_file, (sizex, sizey)))\n",
        "    print(np.array(data).shape)\n",
        "  return np.array(data)"
      ]
    },
    {
      "cell_type": "code",
      "execution_count": null,
      "metadata": {
        "colab": {
          "base_uri": "https://localhost:8080/"
        },
        "id": "7JfkGKENPLRX",
        "outputId": "a48e43f8-5ebe-4968-d50c-a8eb9d9c97fa"
      },
      "outputs": [
        {
          "name": "stdout",
          "output_type": "stream",
          "text": [
            " Resizing the image resolution to: (224, 224)\n",
            "Extracting images for fibroadenoma\n",
            "Full path is /content/drive/MyDrive/Datasets/breaKVis/benign/SOB/fibroadenoma\n",
            "(142, 224, 224, 3)\n",
            "(236, 224, 224, 3)\n",
            "(373, 224, 224, 3)\n",
            "(494, 224, 224, 3)\n",
            "(575, 224, 224, 3)\n",
            "(632, 224, 224, 3)\n",
            "(700, 224, 224, 3)\n",
            "(820, 224, 224, 3)\n",
            "(888, 224, 224, 3)\n",
            "(1014, 224, 224, 3)\n",
            "Extracting images for phyllodes_tumor\n",
            "Full path is /content/drive/MyDrive/Datasets/breaKVis/benign/SOB/phyllodes_tumor\n",
            "(235, 224, 224, 3)\n",
            "(393, 224, 224, 3)\n",
            "(453, 224, 224, 3)\n",
            "Extracting images for adenosis\n",
            "Full path is /content/drive/MyDrive/Datasets/breaKVis/benign/SOB/adenosis\n",
            "(121, 224, 224, 3)\n",
            "(253, 224, 224, 3)\n",
            "(383, 224, 224, 3)\n",
            "(444, 224, 224, 3)\n",
            "Extracting images for tubular_adenoma\n",
            "Full path is /content/drive/MyDrive/Datasets/breaKVis/benign/SOB/tubular_adenoma\n",
            "(65, 224, 224, 3)\n",
            "(118, 224, 224, 3)\n",
            "(250, 224, 224, 3)\n",
            "(374, 224, 224, 3)\n",
            "(438, 224, 224, 3)\n",
            "(503, 224, 224, 3)\n",
            "(569, 224, 224, 3)\n",
            "Extracting images for ductal_carcinoma\n",
            "Full path is /content/drive/MyDrive/Datasets/breaKVis/malignant/SOB/ductal_carcinoma\n",
            "(39, 224, 224, 3)\n",
            "(99, 224, 224, 3)\n",
            "(197, 224, 224, 3)\n",
            "(297, 224, 224, 3)\n",
            "(443, 224, 224, 3)\n",
            "(566, 224, 224, 3)\n",
            "(711, 224, 224, 3)\n",
            "(806, 224, 224, 3)\n",
            "(879, 224, 224, 3)\n",
            "(1010, 224, 224, 3)\n",
            "(1090, 224, 224, 3)\n",
            "(1173, 224, 224, 3)\n",
            "(1228, 224, 224, 3)\n",
            "(1315, 224, 224, 3)\n",
            "(1375, 224, 224, 3)\n",
            "(1428, 224, 224, 3)\n",
            "(1473, 224, 224, 3)\n",
            "(1610, 224, 224, 3)\n",
            "(1671, 224, 224, 3)\n",
            "(1800, 224, 224, 3)\n",
            "(1904, 224, 224, 3)\n",
            "(1983, 224, 224, 3)\n",
            "(2091, 224, 224, 3)\n",
            "(2216, 224, 224, 3)\n",
            "(2327, 224, 224, 3)\n",
            "(2402, 224, 224, 3)\n",
            "(2546, 224, 224, 3)\n",
            "(2630, 224, 224, 3)\n",
            "(2689, 224, 224, 3)\n",
            "(2784, 224, 224, 3)\n",
            "(2828, 224, 224, 3)\n",
            "(2912, 224, 224, 3)\n",
            "(3000, 224, 224, 3)\n",
            "(3090, 224, 224, 3)\n",
            "(3180, 224, 224, 3)\n",
            "(3258, 224, 224, 3)\n",
            "(3296, 224, 224, 3)\n",
            "(3451, 224, 224, 3)\n",
            "Extracting images for papillary_carcinoma\n",
            "Full path is /content/drive/MyDrive/Datasets/breaKVis/malignant/SOB/papillary_carcinoma\n",
            "(74, 224, 224, 3)\n",
            "(136, 224, 224, 3)\n",
            "(263, 224, 224, 3)\n",
            "(405, 224, 224, 3)\n",
            "(495, 224, 224, 3)\n",
            "(560, 224, 224, 3)\n",
            "Extracting images for mucinous_carcinoma\n",
            "Full path is /content/drive/MyDrive/Datasets/breaKVis/malignant/SOB/mucinous_carcinoma\n",
            "(64, 224, 224, 3)\n",
            "(154, 224, 224, 3)\n",
            "(273, 224, 224, 3)\n",
            "(328, 224, 224, 3)\n",
            "(506, 224, 224, 3)\n",
            "(568, 224, 224, 3)\n",
            "(632, 224, 224, 3)\n",
            "(730, 224, 224, 3)\n",
            "(792, 224, 224, 3)\n",
            "Extracting images for lobular_carcinoma\n",
            "Full path is /content/drive/MyDrive/Datasets/breaKVis/malignant/SOB/lobular_carcinoma\n",
            "(103, 224, 224, 3)\n",
            "(226, 224, 224, 3)\n",
            "(427, 224, 224, 3)\n",
            "(552, 224, 224, 3)\n",
            "(626, 224, 224, 3)\n"
          ]
        }
      ],
      "source": [
        "benign_folders = os.listdir(data_dir_benign)\n",
        "malignant_folders = os.listdir(data_dir_malignant)\n",
        "sizex, sizey = 224, 224\n",
        "\n",
        "print(f' Resizing the image resolution to: {sizex, sizey}')\n",
        "\n",
        "# All benign types\n",
        "#print(f'Extracting benign data at {data_dir_benign}')\n",
        "for benign_folder in benign_folders:\n",
        "  if benign_folder == 'fibroadenoma':\n",
        "    print(f'Extracting images for {benign_folder}')\n",
        "    print(f'Full path is {os.path.join(data_dir_benign, benign_folder)}')\n",
        "    fibroadenoma_dir = os.path.join(data_dir_benign, benign_folder)\n",
        "    fibroadenoma = extract_images(fibroadenoma_dir, sizex, sizey)\n",
        "  elif benign_folder == 'tubular_adenoma':\n",
        "    print(f'Extracting images for {benign_folder}')\n",
        "    print(f'Full path is {os.path.join(data_dir_benign, benign_folder)}')\n",
        "    tubular_adenoma_dir = os.path.join(data_dir_benign, benign_folder)\n",
        "    tubular_adenoma = extract_images(tubular_adenoma_dir, sizex, sizey)\n",
        "  elif benign_folder == 'phyllodes_tumor':\n",
        "    print(f'Extracting images for {benign_folder}')\n",
        "    print(f'Full path is {os.path.join(data_dir_benign, benign_folder)}')\n",
        "    phyllodes_tumor_dir = os.path.join(data_dir_benign, benign_folder)\n",
        "    phyllodes_tumor = extract_images(phyllodes_tumor_dir, sizex, sizey)\n",
        "  elif benign_folder == 'adenosis':\n",
        "    print(f'Extracting images for {benign_folder}')\n",
        "    print(f'Full path is {os.path.join(data_dir_benign, benign_folder)}')\n",
        "    adenosis_dir = os.path.join(data_dir_benign, benign_folder)\n",
        "    adenosis = extract_images(adenosis_dir, sizex, sizey)\n",
        "\n",
        "\n",
        "# All malignant types\n",
        "#print(f'Extracting malignant data at {data_dir_malignant}')\n",
        "for malignant_folder in malignant_folders:\n",
        "  if malignant_folder == 'ductal_carcinoma':\n",
        "    print(f'Extracting images for {malignant_folder}')\n",
        "    print(f'Full path is {os.path.join(data_dir_malignant, malignant_folder)}')\n",
        "    ductal_carcinoma_dir = os.path.join(data_dir_malignant, malignant_folder)\n",
        "    ductal_carcinoma = extract_images(ductal_carcinoma_dir, sizex, sizey)\n",
        "  elif malignant_folder == 'papillary_carcinoma':\n",
        "    print(f'Extracting images for {malignant_folder}')\n",
        "    print(f'Full path is {os.path.join(data_dir_malignant, malignant_folder)}')\n",
        "    papillary_carcinoma_dir = os.path.join(data_dir_malignant, malignant_folder)\n",
        "    papillary_carcinoma = extract_images(papillary_carcinoma_dir, sizex, sizey)\n",
        "  elif malignant_folder == 'lobular_carcinoma':\n",
        "    print(f'Extracting images for {malignant_folder}')\n",
        "    print(f'Full path is {os.path.join(data_dir_malignant, malignant_folder)}')\n",
        "    lobular_carcinoma_dir = os.path.join(data_dir_malignant, malignant_folder)\n",
        "    lobular_carcinoma = extract_images(lobular_carcinoma_dir, sizex, sizey)\n",
        "  elif malignant_folder == 'mucinous_carcinoma':\n",
        "    print(f'Extracting images for {malignant_folder}')\n",
        "    print(f'Full path is {os.path.join(data_dir_malignant, malignant_folder)}')\n",
        "    mucinous_carcinoma_dir = os.path.join(data_dir_malignant, malignant_folder)\n",
        "    mucinous_carcinoma = extract_images(mucinous_carcinoma_dir, sizex, sizey)\n"
      ]
    },
    {
      "cell_type": "code",
      "execution_count": null,
      "metadata": {
        "id": "JohCEgaQylkm"
      },
      "outputs": [],
      "source": [
        "# Saving benign tumor matrices\n",
        "np.save(os.path.join(data_dir_benign, 'fibroadenoma.npy'), fibroadenoma)\n",
        "np.save(os.path.join(data_dir_benign, 'tubular_adenoma.npy'), tubular_adenoma)\n",
        "np.save(os.path.join(data_dir_benign, 'phyllodes_tumor.npy'), phyllodes_tumor)\n",
        "np.save(os.path.join(data_dir_benign, 'adenosis.npy'), adenosis)\n",
        "\n",
        "# Saving malignant tumor matrices\n",
        "np.save(os.path.join(data_dir_malignant, 'ductal_carcinoma.npy'), ductal_carcinoma)\n",
        "np.save(os.path.join(data_dir_malignant, 'papillary_carcinoma.npy'), papillary_carcinoma)\n",
        "np.save(os.path.join(data_dir_malignant, 'lobular_carcinoma.npy'), lobular_carcinoma)\n",
        "np.save(os.path.join(data_dir_malignant, 'mucinous_carcinoma.npy'), mucinous_carcinoma)"
      ]
    },
    {
      "cell_type": "code",
      "execution_count": null,
      "metadata": {
        "id": "Iv1N1I04WqCn"
      },
      "outputs": [],
      "source": [
        "# Loading benign tumor matrices\n",
        "fibroadenoma = np.load(os.path.join(data_dir_benign, 'fibroadenoma.npy'))\n",
        "tubular_adenoma = np.load(os.path.join(data_dir_benign, 'tubular_adenoma.npy'))\n",
        "phyllodes_tumor = np.load(os.path.join(data_dir_benign, 'phyllodes_tumor.npy'))\n",
        "adenosis = np.load(os.path.join(data_dir_benign, 'adenosis.npy'))\n",
        "\n",
        "# Loading malignant tumor matrices\n",
        "ductal_carcinoma = np.load(os.path.join(data_dir_malignant, 'ductal_carcinoma.npy'))\n",
        "papillary_carcinoma = np.load(os.path.join(data_dir_malignant, 'papillary_carcinoma.npy'))\n",
        "lobular_carcinoma = np.load(os.path.join(data_dir_malignant, 'lobular_carcinoma.npy'))\n",
        "mucinous_carcinoma = np.load(os.path.join(data_dir_malignant, 'mucinous_carcinoma.npy'))"
      ]
    },
    {
      "cell_type": "code",
      "execution_count": null,
      "metadata": {
        "id": "wgjjdRtIRt2Z"
      },
      "outputs": [],
      "source": [
        "fibroadenoma_labels = np.zeros(fibroadenoma.shape[0])\n",
        "tubular_adenoma_labels = np.ones(tubular_adenoma.shape[0])\n",
        "phyllodes_tumor_labels = 2*np.ones(phyllodes_tumor.shape[0])\n",
        "adenosis_labels = 3*np.ones(adenosis.shape[0])\n",
        "ductal_carcinoma_labels = 4*np.ones(ductal_carcinoma.shape[0])\n",
        "papillary_carcinoma_labels = 5*np.ones(papillary_carcinoma.shape[0])\n",
        "lobular_carcinoma_labels = 6*np.ones(lobular_carcinoma.shape[0])\n",
        "mucinous_carcinoma_labels = 7*np.ones(mucinous_carcinoma.shape[0])"
      ]
    },
    {
      "cell_type": "code",
      "execution_count": null,
      "metadata": {
        "id": "gGEkebRzTo7s"
      },
      "outputs": [],
      "source": [
        "X = np.concatenate((fibroadenoma, tubular_adenoma, phyllodes_tumor, adenosis, ductal_carcinoma, papillary_carcinoma, lobular_carcinoma, mucinous_carcinoma), axis = 0)\n",
        "y = np.concatenate((fibroadenoma_labels, tubular_adenoma_labels, phyllodes_tumor_labels, adenosis_labels, ductal_carcinoma_labels, papillary_carcinoma_labels, lobular_carcinoma_labels, mucinous_carcinoma_labels), axis = 0)"
      ]
    },
    {
      "cell_type": "code",
      "execution_count": null,
      "metadata": {
        "id": "obYtJfIRuYKG"
      },
      "outputs": [],
      "source": [
        "benign_labels = np.zeros(len(fibroadenoma_labels)+len(tubular_adenoma_labels)+len(phyllodes_tumor_labels)+len(adenosis_labels))\n",
        "malignant_labels = np.ones(len(ductal_carcinoma_labels)+len(papillary_carcinoma_labels)+len(lobular_carcinoma_labels)+len(mucinous_carcinoma_labels))"
      ]
    },
    {
      "cell_type": "code",
      "execution_count": null,
      "metadata": {
        "id": "lDqKky-QvEYB"
      },
      "outputs": [],
      "source": [
        "y_2class = np.concatenate((benign_labels, malignant_labels))"
      ]
    },
    {
      "cell_type": "code",
      "execution_count": null,
      "metadata": {
        "colab": {
          "base_uri": "https://localhost:8080/"
        },
        "id": "V3ZRHzkStcD9",
        "outputId": "a1756d2d-6ea9-4ff1-b1e7-75f05fe4c940"
      },
      "outputs": [
        {
          "name": "stdout",
          "output_type": "stream",
          "text": [
            "number of samples are 7909\n"
          ]
        }
      ],
      "source": [
        "print(f'number of samples are {X.shape[0]}')"
      ]
    },
    {
      "cell_type": "code",
      "execution_count": null,
      "metadata": {
        "colab": {
          "base_uri": "https://localhost:8080/"
        },
        "id": "j7kte4dBYa8A",
        "outputId": "b630d887-adb4-4222-fd01-78eed53d8f81"
      },
      "outputs": [
        {
          "name": "stdout",
          "output_type": "stream",
          "text": [
            "-1.0\n",
            "1.0\n"
          ]
        }
      ],
      "source": [
        "X = vit.preprocess_inputs(X)\n",
        "print(np.min(X))\n",
        "print(np.max(X))"
      ]
    },
    {
      "cell_type": "code",
      "execution_count": null,
      "metadata": {
        "id": "An03R8VcVrFi"
      },
      "outputs": [],
      "source": [
        "x_train, x_test, y_train, y_test = train_test_split(X, y, test_size = 0.3)"
      ]
    },
    {
      "cell_type": "code",
      "execution_count": null,
      "metadata": {
        "id": "9fhilDoSSzup"
      },
      "outputs": [],
      "source": [
        "# Saving 2 class \n",
        "np.save('/content/drive/MyDrive/Datasets/breaKVis/8class_all_data/x_train.npy', x_train)\n",
        "np.save('/content/drive/MyDrive/Datasets/breaKVis/8class_all_data/y_train.npy', y_train)\n",
        "np.save('/content/drive/MyDrive/Datasets/breaKVis/8class_all_data/x_test.npy', x_test)\n",
        "np.save('/content/drive/MyDrive/Datasets/breaKVis/8class_all_data/y_test.npy', y_test)"
      ]
    },
    {
      "cell_type": "code",
      "execution_count": 8,
      "metadata": {
        "id": "44ZPdfge1nTy"
      },
      "outputs": [],
      "source": [
        "# Load 8 classes\n",
        "#x_train = np.load('/content/drive/MyDrive/Datasets/breaKVis/8class_all_data/x_train.npy')\n",
        "y_train = np.load('/content/drive/MyDrive/Datasets/breaKVis/8class_all_data/y_train.npy')\n",
        "x_test = np.load('/content/drive/MyDrive/Datasets/breaKVis/8class_all_data/x_test.npy')\n",
        "y_test = np.load('/content/drive/MyDrive/Datasets/breaKVis/8class_all_data/y_test.npy')"
      ]
    },
    {
      "cell_type": "code",
      "execution_count": null,
      "metadata": {
        "id": "XF5ebXJdWJvG",
        "colab": {
          "base_uri": "https://localhost:8080/"
        },
        "outputId": "92e29c6d-c76e-4149-ca24-f7a93a190936"
      },
      "outputs": [
        {
          "output_type": "stream",
          "name": "stdout",
          "text": [
            "Downloading data from https://github.com/rishigami/Swin-Transformer-TF/releases/download/v0.1-tf-swin-weights/swin_large_224.tgz\n",
            "722599936/722592300 [==============================] - 7s 0us/step\n",
            "722608128/722592300 [==============================] - 7s 0us/step\n"
          ]
        }
      ],
      "source": [
        "IMAGE_SIZE = [x_train.shape[1], x_train.shape[1], 3]\n",
        "NUM_CLASSES = 8\n",
        "\n",
        "swin_vit = SwinTransformer('swin_large_224', include_top=False, pretrained=True)\n",
        "\n",
        "model = tf.keras.Sequential()\n",
        "model.add(tf.keras.Input(shape = IMAGE_SIZE))\n",
        "model.add(swin_vit)\n",
        "model.add(tf.keras.layers.Dense(NUM_CLASSES, activation='softmax'))\n",
        "\n",
        "model.build(IMAGE_SIZE)"
      ]
    },
    {
      "cell_type": "code",
      "execution_count": null,
      "metadata": {
        "colab": {
          "base_uri": "https://localhost:8080/"
        },
        "id": "nXcmTeN7YsF2",
        "outputId": "36b1552c-bcc6-4732-f332-1d904c09b1c6"
      },
      "outputs": [
        {
          "output_type": "stream",
          "name": "stdout",
          "text": [
            "Model: \"sequential_59\"\n",
            "_________________________________________________________________\n",
            " Layer (type)                Output Shape              Param #   \n",
            "=================================================================\n",
            " swin_large_224 (SwinTransfo  (None, 1536)             195331616 \n",
            " rmerModel)                                                      \n",
            "                                                                 \n",
            " dense_9 (Dense)             (None, 8)                 12296     \n",
            "                                                                 \n",
            "=================================================================\n",
            "Total params: 195,343,912\n",
            "Trainable params: 195,007,772\n",
            "Non-trainable params: 336,140\n",
            "_________________________________________________________________\n"
          ]
        }
      ],
      "source": [
        "model.summary()\n",
        "\n",
        "model.compile(optimizer = tf.keras.optimizers.Adadelta(learning_rate = 0.1), loss = 'sparse_categorical_crossentropy', metrics = ['accuracy'])"
      ]
    },
    {
      "cell_type": "code",
      "execution_count": null,
      "metadata": {
        "colab": {
          "base_uri": "https://localhost:8080/"
        },
        "id": "EN4HkboMYvUN",
        "outputId": "a7720a5b-7e3a-4de3-d55f-a6cf5213ed55"
      },
      "outputs": [
        {
          "output_type": "stream",
          "name": "stdout",
          "text": [
            "Epoch 1/15\n",
            "623/623 [==============================] - 400s 579ms/step - loss: 0.8984 - accuracy: 0.6778 - val_loss: 0.7082 - val_accuracy: 0.7545\n",
            "Epoch 2/15\n",
            "623/623 [==============================] - 349s 560ms/step - loss: 0.3275 - accuracy: 0.8804 - val_loss: 0.4652 - val_accuracy: 0.8285\n",
            "Epoch 3/15\n",
            "623/623 [==============================] - 347s 558ms/step - loss: 0.1600 - accuracy: 0.9420 - val_loss: 0.3260 - val_accuracy: 0.8736\n",
            "Epoch 4/15\n",
            "623/623 [==============================] - 347s 557ms/step - loss: 0.0888 - accuracy: 0.9667 - val_loss: 0.2585 - val_accuracy: 0.9116\n",
            "Epoch 5/15\n",
            "623/623 [==============================] - 347s 557ms/step - loss: 0.0630 - accuracy: 0.9733 - val_loss: 0.2746 - val_accuracy: 0.9170\n",
            "Epoch 6/15\n",
            "623/623 [==============================] - 347s 557ms/step - loss: 0.0406 - accuracy: 0.9827 - val_loss: 0.2995 - val_accuracy: 0.9079\n",
            "Epoch 7/15\n",
            "623/623 [==============================] - 346s 556ms/step - loss: 0.0356 - accuracy: 0.9849 - val_loss: 0.3660 - val_accuracy: 0.9152\n",
            "Epoch 8/15\n",
            "623/623 [==============================] - 346s 556ms/step - loss: 0.0241 - accuracy: 0.9862 - val_loss: 0.3512 - val_accuracy: 0.9079\n",
            "Epoch 9/15\n",
            "623/623 [==============================] - 347s 556ms/step - loss: 0.0275 - accuracy: 0.9878 - val_loss: 0.4248 - val_accuracy: 0.9061\n",
            "Epoch 10/15\n",
            "623/623 [==============================] - 347s 557ms/step - loss: 0.0193 - accuracy: 0.9892 - val_loss: 0.4837 - val_accuracy: 0.8791\n",
            "Epoch 11/15\n",
            "623/623 [==============================] - 347s 557ms/step - loss: 0.0235 - accuracy: 0.9862 - val_loss: 0.4463 - val_accuracy: 0.9061\n",
            "Epoch 12/15\n",
            "623/623 [==============================] - 348s 558ms/step - loss: 0.0240 - accuracy: 0.9890 - val_loss: 0.4991 - val_accuracy: 0.8899\n",
            "Epoch 13/15\n",
            "623/623 [==============================] - 347s 558ms/step - loss: 0.0240 - accuracy: 0.9872 - val_loss: 0.3977 - val_accuracy: 0.9224\n",
            "Epoch 14/15\n",
            "623/623 [==============================] - 347s 557ms/step - loss: 0.0207 - accuracy: 0.9876 - val_loss: 0.4302 - val_accuracy: 0.9097\n",
            "Epoch 15/15\n",
            "623/623 [==============================] - 347s 557ms/step - loss: 0.0195 - accuracy: 0.9882 - val_loss: 0.4041 - val_accuracy: 0.9152\n"
          ]
        },
        {
          "output_type": "execute_result",
          "data": {
            "text/plain": [
              "<keras.callbacks.History at 0x7fa11173cd90>"
            ]
          },
          "metadata": {},
          "execution_count": 53
        }
      ],
      "source": [
        "model.fit(x_train, y_train, batch_size = 8, epochs = 15, validation_split = 0.10)"
      ]
    },
    {
      "cell_type": "code",
      "execution_count": null,
      "metadata": {
        "colab": {
          "base_uri": "https://localhost:8080/"
        },
        "id": "RDtm4_9qZDQb",
        "outputId": "c04e1b27-4b24-42d1-e27a-658cfbd9a25b"
      },
      "outputs": [
        {
          "output_type": "stream",
          "name": "stdout",
          "text": [
            "75/75 [==============================] - 48s 635ms/step - loss: 0.3229 - accuracy: 0.9279\n"
          ]
        },
        {
          "output_type": "execute_result",
          "data": {
            "text/plain": [
              "[0.32292842864990234, 0.9279392957687378]"
            ]
          },
          "metadata": {},
          "execution_count": 54
        }
      ],
      "source": [
        "model.evaluate(x_test, y_test)"
      ]
    },
    {
      "cell_type": "code",
      "execution_count": null,
      "metadata": {
        "colab": {
          "base_uri": "https://localhost:8080/"
        },
        "id": "pkk2O3LuQ76J",
        "outputId": "5964f3d0-596e-404b-e5d4-ba641769f06a"
      },
      "outputs": [
        {
          "output_type": "stream",
          "name": "stderr",
          "text": [
            "WARNING:absl:Found untraced functions such as proj_layer_call_fn, proj_layer_call_and_return_conditional_losses, norm_layer_call_fn, norm_layer_call_and_return_conditional_losses, patch_merging_27_layer_call_fn while saving (showing 5 of 598). These functions will not be directly callable after loading.\n"
          ]
        },
        {
          "output_type": "stream",
          "name": "stdout",
          "text": [
            "INFO:tensorflow:Assets written to: /content/drive/MyDrive/Datasets/breaKVis/trained_models/svit_large_224_8class_allX/assets\n"
          ]
        },
        {
          "output_type": "stream",
          "name": "stderr",
          "text": [
            "INFO:tensorflow:Assets written to: /content/drive/MyDrive/Datasets/breaKVis/trained_models/svit_large_224_8class_allX/assets\n"
          ]
        }
      ],
      "source": [
        "model.save('/content/drive/MyDrive/Datasets/breaKVis/trained_models/svit_large_224_8class_allX')"
      ]
    },
    {
      "cell_type": "code",
      "execution_count": 7,
      "metadata": {
        "id": "Hhlr0Pa6y4lB"
      },
      "outputs": [],
      "source": [
        "model_tiny = tf.keras.models.load_model('/content/drive/MyDrive/Datasets/breaKVis/trained_models/svit_tiny_224_8class_allX')\n",
        "model_small = tf.keras.models.load_model('/content/drive/MyDrive/Datasets/breaKVis/trained_models/svit_small_224_8class_allX')\n",
        "model_base = tf.keras.models.load_model('/content/drive/MyDrive/Datasets/breaKVis/trained_models/svit_base_224_8class_allX')\n",
        "model_large = tf.keras.models.load_model('/content/drive/MyDrive/Datasets/breaKVis/trained_models/svit_large_224_8class_allX')"
      ]
    },
    {
      "cell_type": "code",
      "execution_count": 9,
      "metadata": {
        "id": "Gg8l0amBZGV4"
      },
      "outputs": [],
      "source": [
        "y_pred_tiny = model_tiny.predict(x_test)\n",
        "y_pred_small = model_small.predict(x_test)\n",
        "y_pred_base = model_base.predict(x_test)\n",
        "y_pred_large = model_large.predict(x_test)"
      ]
    },
    {
      "cell_type": "code",
      "execution_count": 10,
      "metadata": {
        "colab": {
          "base_uri": "https://localhost:8080/"
        },
        "id": "J_WTkfP1feMx",
        "outputId": "03bc5115-748e-4e0b-9a43-a40f6de90ca9"
      },
      "outputs": [
        {
          "output_type": "stream",
          "name": "stdout",
          "text": [
            "[4.64996583e-06 9.99992609e-01 1.35005322e-08 8.01364237e-08\n",
            " 2.52983455e-07 2.23177246e-08 1.89858133e-06 4.23505469e-07]\n"
          ]
        }
      ],
      "source": [
        "y_pred = np.zeros(np.shape(y_pred_tiny))\n",
        "\n",
        "for i in range(len(y_test)):\n",
        "  y_pred[i, :] = 0.25*(y_pred_tiny[i, :] + y_pred_small[i, :] + y_pred_base[i, :] + y_pred_large[i, :])\n",
        "\n",
        "print(y_pred[0, :])"
      ]
    },
    {
      "cell_type": "code",
      "execution_count": 11,
      "metadata": {
        "id": "5BpbFqx2ZJl8"
      },
      "outputs": [],
      "source": [
        "y_prob = np.argmax(y_pred, axis = 1)"
      ]
    },
    {
      "cell_type": "code",
      "execution_count": 12,
      "metadata": {
        "id": "s82dm6DpZMIK"
      },
      "outputs": [],
      "source": [
        "import sklearn\n",
        "import matplotlib.pyplot as plt"
      ]
    },
    {
      "cell_type": "code",
      "execution_count": 14,
      "metadata": {
        "colab": {
          "base_uri": "https://localhost:8080/"
        },
        "id": "FC5tA128ZPAk",
        "outputId": "d0534165-226f-4bb2-c77d-100e20fea87f"
      },
      "outputs": [
        {
          "output_type": "stream",
          "name": "stdout",
          "text": [
            "Accuracy 0.9367888748419722\n",
            "AUC is 0.9944340153323826\n",
            "F1-score 0.9367888748419722\n",
            "Balanced accuracy 0.9199453279364909\n",
            "MCC 0.9166335214599615\n",
            "                     precision    recall  f1-score   support\n",
            "\n",
            "       fibroadenoma       0.93      0.96      0.95       311\n",
            "    tubular_adenoma       0.99      0.99      0.99       175\n",
            "    phyllodes_tumor       0.93      0.86      0.89       108\n",
            "           adenosis       0.99      1.00      1.00       134\n",
            "   ductal_carcinoma       0.94      0.96      0.95      1029\n",
            "papillary_carcinoma       0.99      0.93      0.96       181\n",
            "  lobular_carcinoma       0.73      0.72      0.73       179\n",
            " mucinous_carcinoma       0.98      0.94      0.96       256\n",
            "\n",
            "           accuracy                           0.94      2373\n",
            "          macro avg       0.94      0.92      0.93      2373\n",
            "       weighted avg       0.94      0.94      0.94      2373\n",
            "\n"
          ]
        }
      ],
      "source": [
        "print(f'Accuracy {sklearn.metrics.accuracy_score(y_test, y_prob)}')\n",
        "AUC = sklearn.metrics.roc_auc_score(y_test, y_pred, average = 'weighted', multi_class='ovr')\n",
        "print(f'AUC is {AUC}')\n",
        "#target_names = ['beningn', 'malignant']\n",
        "target_names = ['fibroadenoma', 'tubular_adenoma', 'phyllodes_tumor', 'adenosis', 'ductal_carcinoma', 'papillary_carcinoma', 'lobular_carcinoma', 'mucinous_carcinoma']\n",
        "print('F1-score', sklearn.metrics.f1_score(y_test, y_prob, average = 'micro'))\n",
        "print(f'Balanced accuracy {sklearn.metrics.balanced_accuracy_score(y_test, y_prob)}')\n",
        "print(f'MCC {sklearn.metrics.matthews_corrcoef(y_test, y_prob)}')\n",
        "print(f'{sklearn.metrics.classification_report(y_test, y_prob, target_names=target_names)}')"
      ]
    },
    {
      "cell_type": "code",
      "source": [
        "from sklearn.metrics import confusion_matrix\n",
        "import seaborn as sns\n",
        "\n",
        "confusion_mat = confusion_matrix(y_test, y_prob, normalize = 'true')\n",
        "#confusion_mat[1, 0] = 6\n",
        "#confusion_mat[1, 1] = 296\n",
        "class_names = ['FA', 'TA', 'PT', 'AD', 'DC', 'PC', 'LC', 'MC']\n",
        "print(confusion_mat)\n",
        "\n",
        "# Plotting multilabel confusion matrix in a beautiful manner\n",
        "sns.set(font_scale=2)\n",
        "fig = plt.figure(figsize=(16, 14))\n",
        "ax= plt.subplot()\n",
        "sns.heatmap(confusion_mat*100, annot=True, vmin = 0, vmax = 100, ax = ax, cmap = 'YlGnBu', fmt = '2.2f'); #annot=True to annotate cells\n",
        "# labels, title and ticks\n",
        "ax.set_xlabel('Predicted Class', fontsize=30)\n",
        "ax.xaxis.set_label_position('bottom')\n",
        "plt.xticks(rotation=45)\n",
        "ax.xaxis.set_ticklabels(class_names, fontsize = 20)\n",
        "ax.xaxis.tick_bottom()\n",
        "\n",
        "ax.set_ylabel('True Class', fontsize=30)\n",
        "ax.yaxis.set_ticklabels(class_names, fontsize = 20)\n",
        "plt.yticks(rotation=0)\n",
        "\n",
        "#plt.title('Confusion Matrix 224', fontsize=25)\n",
        "\n",
        "plt.show()"
      ],
      "metadata": {
        "colab": {
          "base_uri": "https://localhost:8080/",
          "height": 1000
        },
        "id": "sptOQl7zruzS",
        "outputId": "01389b23-d4a9-4027-8af6-0fa167d7b8a5"
      },
      "execution_count": 31,
      "outputs": [
        {
          "output_type": "stream",
          "name": "stdout",
          "text": [
            "[[9.61414791e-01 3.21543408e-03 2.25080386e-02 0.00000000e+00\n",
            "  3.21543408e-03 0.00000000e+00 3.21543408e-03 6.43086817e-03]\n",
            " [1.14285714e-02 9.88571429e-01 0.00000000e+00 0.00000000e+00\n",
            "  0.00000000e+00 0.00000000e+00 0.00000000e+00 0.00000000e+00]\n",
            " [1.20370370e-01 0.00000000e+00 8.61111111e-01 0.00000000e+00\n",
            "  0.00000000e+00 9.25925926e-03 9.25925926e-03 0.00000000e+00]\n",
            " [0.00000000e+00 0.00000000e+00 0.00000000e+00 1.00000000e+00\n",
            "  0.00000000e+00 0.00000000e+00 0.00000000e+00 0.00000000e+00]\n",
            " [9.71817298e-04 0.00000000e+00 0.00000000e+00 0.00000000e+00\n",
            "  9.58211856e-01 9.71817298e-04 3.98445092e-02 0.00000000e+00]\n",
            " [1.65745856e-02 0.00000000e+00 0.00000000e+00 0.00000000e+00\n",
            "  4.97237569e-02 9.28176796e-01 0.00000000e+00 5.52486188e-03]\n",
            " [0.00000000e+00 0.00000000e+00 0.00000000e+00 0.00000000e+00\n",
            "  2.73743017e-01 0.00000000e+00 7.20670391e-01 5.58659218e-03]\n",
            " [7.81250000e-03 0.00000000e+00 0.00000000e+00 3.90625000e-03\n",
            "  3.12500000e-02 0.00000000e+00 1.56250000e-02 9.41406250e-01]]\n"
          ]
        },
        {
          "output_type": "display_data",
          "data": {
            "text/plain": [
              "<Figure size 1152x1008 with 2 Axes>"
            ],
            "image/png": "[encoded data removed]"
          },
          "metadata": {}
        }
      ]
    }
  ],
  "metadata": {
    "accelerator": "GPU",
    "colab": {
      "collapsed_sections": [],
      "machine_shape": "hm",
      "name": "breasKVis_data_extraction.ipynb",
      "provenance": [],
      "authorship_tag": "ABX9TyNVpJklOagBSoNF9JzlSkp8",
      "include_colab_link": true
    },
    "kernelspec": {
      "display_name": "Python 3",
      "name": "python3"
    },
    "language_info": {
      "name": "python"
    }
  },
  "nbformat": 4,
  "nbformat_minor": 0
}