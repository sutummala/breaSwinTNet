{
  "nbformat": 4,
  "nbformat_minor": 0,
  "metadata": {
    "colab": {
      "name": "breasKVis_data_extraction.ipynb",
      "provenance": [],
      "collapsed_sections": [],
      "machine_shape": "hm",
      "authorship_tag": "ABX9TyMQll7ZHi6d2Q8bJIQu78yD",
      "include_colab_link": true
    },
    "kernelspec": {
      "name": "python3",
      "display_name": "Python 3"
    },
    "language_info": {
      "name": "python"
    },
    "accelerator": "GPU"
  },
  "cells": [
    {
      "cell_type": "markdown",
      "metadata": {
        "id": "view-in-github",
        "colab_type": "text"
      },
      "source": [
        "<a href=\"https://colab.research.google.com/github/sutummala/breaSwinTNet/blob/main/breasKVis_data_extraction.ipynb\" target=\"_parent\"><img src=\"https://colab.research.google.com/assets/colab-badge.svg\" alt=\"Open In Colab\"/></a>"
      ]
    },
    {
      "cell_type": "code",
      "execution_count": 7,
      "metadata": {
        "colab": {
          "base_uri": "https://localhost:8080/"
        },
        "id": "b6lel8u9OQL4",
        "outputId": "c9e00b0b-f0af-468b-aef6-5246635f4d4a"
      },
      "outputs": [
        {
          "output_type": "stream",
          "name": "stdout",
          "text": [
            "\n",
            "WARNING: apt does not have a stable CLI interface. Use with caution in scripts.\n",
            "\n",
            "debconf: unable to initialize frontend: Dialog\n",
            "debconf: (No usable dialog-like program is installed, so the dialog based frontend cannot be used. at /usr/share/perl5/Debconf/FrontEnd/Dialog.pm line 76, <> line 1.)\n",
            "debconf: falling back to frontend: Readline\n",
            "debconf: unable to initialize frontend: Readline\n",
            "debconf: (This frontend requires a controlling tty.)\n",
            "debconf: falling back to frontend: Teletype\n",
            "dpkg-preconfigure: unable to re-open stdin: \n",
            "/usr/bin/xdg-open: 851: /usr/bin/xdg-open: www-browser: not found\n",
            "/usr/bin/xdg-open: 851: /usr/bin/xdg-open: links2: not found\n",
            "/usr/bin/xdg-open: 851: /usr/bin/xdg-open: elinks: not found\n",
            "/usr/bin/xdg-open: 851: /usr/bin/xdg-open: links: not found\n",
            "/usr/bin/xdg-open: 851: /usr/bin/xdg-open: lynx: not found\n",
            "/usr/bin/xdg-open: 851: /usr/bin/xdg-open: w3m: not found\n",
            "xdg-open: no method available for opening 'https://accounts.google.com/o/oauth2/auth?client_id=564921029129.apps.googleusercontent.com&redirect_uri=https%3A%2F%2Fgd-ocaml-auth.appspot.com%2Foauth2callback&scope=https%3A%2F%2Fwww.googleapis.com%2Fauth%2Fdrive&response_type=code&access_type=offline&approval_prompt=force&state=maD9o6-cwZU1sHS%2FsaB0vwxmSqwd8n0rRs9g1rwwYaI'\n",
            "/bin/sh: 1: firefox: not found\n",
            "/bin/sh: 1: google-chrome: not found\n",
            "/bin/sh: 1: chromium-browser: not found\n",
            "/bin/sh: 1: open: not found\n",
            "Cannot retrieve auth tokens.\n",
            "Failure(\"Error opening URL:https://accounts.google.com/o/oauth2/auth?client_id=564921029129.apps.googleusercontent.com&redirect_uri=https%3A%2F%2Fgd-ocaml-auth.appspot.com%2Foauth2callback&scope=https%3A%2F%2Fwww.googleapis.com%2Fauth%2Fdrive&response_type=code&access_type=offline&approval_prompt=force&state=maD9o6-cwZU1sHS%2FsaB0vwxmSqwd8n0rRs9g1rwwYaI\")\n"
          ]
        }
      ],
      "source": [
        "!sudo add-apt-repository -y ppa:alessandro-strada/ppa 2>&1 > /dev/null\n",
        "!sudo apt-get update -qq 2>&1 > /dev/null\n",
        "!sudo apt -y install -qq google-drive-ocamlfuse 2>&1 > /dev/null\n",
        "!google-drive-ocamlfuse"
      ]
    },
    {
      "cell_type": "code",
      "source": [
        "!sudo apt-get install -qq w3m # to act as web browser \n",
        "!xdg-settings set default-web-browser w3m.desktop # to set default browser\n",
        "%cd /content\n",
        "!mkdir drive\n",
        "%cd drive\n",
        "!mkdir MyDrive\n",
        "%cd ..\n",
        "%cd ..\n",
        "!google-drive-ocamlfuse /content/drive/MyDrive"
      ],
      "metadata": {
        "colab": {
          "base_uri": "https://localhost:8080/"
        },
        "id": "1wzmv13pOdHy",
        "outputId": "1940d00f-7c37-41f1-e5cc-d91159926c8b"
      },
      "execution_count": 8,
      "outputs": [
        {
          "output_type": "stream",
          "name": "stdout",
          "text": [
            "debconf: unable to initialize frontend: Dialog\n",
            "debconf: (No usable dialog-like program is installed, so the dialog based frontend cannot be used. at /usr/share/perl5/Debconf/FrontEnd/Dialog.pm line 76, <> line 2.)\n",
            "debconf: falling back to frontend: Readline\n",
            "debconf: unable to initialize frontend: Readline\n",
            "debconf: (This frontend requires a controlling tty.)\n",
            "debconf: falling back to frontend: Teletype\n",
            "dpkg-preconfigure: unable to re-open stdin: \n",
            "Selecting previously unselected package libgpm2:amd64.\n",
            "(Reading database ... 155207 files and directories currently installed.)\n",
            "Preparing to unpack .../libgpm2_1.20.7-5_amd64.deb ...\n",
            "Unpacking libgpm2:amd64 (1.20.7-5) ...\n",
            "Selecting previously unselected package w3m.\n",
            "Preparing to unpack .../w3m_0.5.3-36build1_amd64.deb ...\n",
            "Unpacking w3m (0.5.3-36build1) ...\n",
            "Setting up libgpm2:amd64 (1.20.7-5) ...\n",
            "Setting up w3m (0.5.3-36build1) ...\n",
            "Processing triggers for mime-support (3.60ubuntu1) ...\n",
            "Processing triggers for libc-bin (2.27-3ubuntu1.3) ...\n",
            "/sbin/ldconfig.real: /usr/local/lib/python3.7/dist-packages/ideep4py/lib/libmkldnn.so.0 is not a symbolic link\n",
            "\n",
            "Processing triggers for man-db (2.8.3-2ubuntu0.1) ...\n",
            "/content\n",
            "/content/drive\n",
            "/content\n",
            "/\n",
            "Access token retrieved correctly.\n"
          ]
        }
      ]
    },
    {
      "cell_type": "code",
      "source": [
        "!pip install vit-keras\n",
        "!pip install tensorflow-addons"
      ],
      "metadata": {
        "colab": {
          "base_uri": "https://localhost:8080/"
        },
        "id": "BQdQPb0DWfBc",
        "outputId": "1ff4f222-d46c-4b82-cf9a-78c4839a8c19"
      },
      "execution_count": 4,
      "outputs": [
        {
          "output_type": "stream",
          "name": "stdout",
          "text": [
            "Requirement already satisfied: vit-keras in /usr/local/lib/python3.7/dist-packages (0.1.0)\n",
            "Requirement already satisfied: validators in /usr/local/lib/python3.7/dist-packages (from vit-keras) (0.18.2)\n",
            "Requirement already satisfied: scipy in /usr/local/lib/python3.7/dist-packages (from vit-keras) (1.4.1)\n",
            "Requirement already satisfied: numpy>=1.13.3 in /usr/local/lib/python3.7/dist-packages (from scipy->vit-keras) (1.21.6)\n",
            "Requirement already satisfied: six>=1.4.0 in /usr/local/lib/python3.7/dist-packages (from validators->vit-keras) (1.15.0)\n",
            "Requirement already satisfied: decorator>=3.4.0 in /usr/local/lib/python3.7/dist-packages (from validators->vit-keras) (4.4.2)\n",
            "Requirement already satisfied: tensorflow-addons in /usr/local/lib/python3.7/dist-packages (0.16.1)\n",
            "Requirement already satisfied: typeguard>=2.7 in /usr/local/lib/python3.7/dist-packages (from tensorflow-addons) (2.7.1)\n"
          ]
        }
      ]
    },
    {
      "cell_type": "code",
      "source": [
        "!git clone https://github.com/rishigami/Swin-Transformer-TF.git"
      ],
      "metadata": {
        "colab": {
          "base_uri": "https://localhost:8080/"
        },
        "id": "8fVAywZSWZez",
        "outputId": "7673fa5d-52f9-484a-e2cc-dc44004cd62e"
      },
      "execution_count": 2,
      "outputs": [
        {
          "output_type": "stream",
          "name": "stdout",
          "text": [
            "fatal: destination path 'Swin-Transformer-TF' already exists and is not an empty directory.\n"
          ]
        }
      ]
    },
    {
      "cell_type": "code",
      "source": [
        "import sys\n",
        "sys.path.append('/content/Swin-Transformer-TF')\n",
        "from swintransformer import SwinTransformer"
      ],
      "metadata": {
        "id": "A6FXQfejWVH1"
      },
      "execution_count": 3,
      "outputs": []
    },
    {
      "cell_type": "code",
      "source": [
        "import os\n",
        "import numpy as np\n",
        "import cv2\n",
        "import tensorflow as tf\n",
        "from sklearn.model_selection import RepeatedStratifiedKFold, train_test_split\n",
        "from vit_keras import vit, utils, visualize"
      ],
      "metadata": {
        "id": "Vtg0_00dPSDf"
      },
      "execution_count": 5,
      "outputs": []
    },
    {
      "cell_type": "code",
      "source": [
        "data_dir_benign = '/content/drive/MyDrive/Datasets/breaKVis/benign/SOB'\n",
        "data_dir_malignant = '/content/drive/MyDrive/Datasets/breaKVis/malignant/SOB'"
      ],
      "metadata": {
        "id": "wF4Y4RjhOu_V"
      },
      "execution_count": 6,
      "outputs": []
    },
    {
      "cell_type": "code",
      "source": [
        "def extract_images(path, sizex, sizey):\n",
        "  data = []\n",
        "  folders = sorted(os.listdir(path))\n",
        "  for folder in folders:\n",
        "    for final_folder in os.listdir(os.path.join(path, folder)):\n",
        "      for file in os.listdir(os.path.join(path, folder, final_folder)):\n",
        "        mat_file = cv2.imread(os.path.join(path, folder, final_folder, file))\n",
        "        data.append(cv2.resize(mat_file, (sizex, sizey)))\n",
        "    print(np.array(data).shape)\n",
        "  return np.array(data)"
      ],
      "metadata": {
        "id": "sGm84GJJVjnJ"
      },
      "execution_count": 37,
      "outputs": []
    },
    {
      "cell_type": "code",
      "source": [
        "benign_folders = os.listdir(data_dir_benign)\n",
        "malignant_folders = os.listdir(data_dir_malignant)\n",
        "sizex, sizey = 224, 224\n",
        "\n",
        "print(f' Resizing the image resolution to: {sizex, sizey}')\n",
        "\n",
        "# All benign types\n",
        "#print(f'Extracting benign data at {data_dir_benign}')\n",
        "for benign_folder in benign_folders:\n",
        "  if benign_folder == 'fibroadenoma':\n",
        "    print(f'Extracting images for {benign_folder}')\n",
        "    print(f'Full path is {os.path.join(data_dir_benign, benign_folder)}')\n",
        "    fibroadenoma_dir = os.path.join(data_dir_benign, benign_folder)\n",
        "    fibroadenoma = extract_images(fibroadenoma_dir, sizex, sizey)\n",
        "  elif benign_folder == 'tubular_adenoma':\n",
        "    print(f'Extracting images for {benign_folder}')\n",
        "    print(f'Full path is {os.path.join(data_dir_benign, benign_folder)}')\n",
        "    tubular_adenoma_dir = os.path.join(data_dir_benign, benign_folder)\n",
        "    tubular_adenoma = extract_images(tubular_adenoma_dir, sizex, sizey)\n",
        "  elif benign_folder == 'phyllodes_tumor':\n",
        "    print(f'Extracting images for {benign_folder}')\n",
        "    print(f'Full path is {os.path.join(data_dir_benign, benign_folder)}')\n",
        "    phyllodes_tumor_dir = os.path.join(data_dir_benign, benign_folder)\n",
        "    phyllodes_tumor = extract_images(phyllodes_tumor_dir, sizex, sizey)\n",
        "  elif benign_folder == 'adenosis':\n",
        "    print(f'Extracting images for {benign_folder}')\n",
        "    print(f'Full path is {os.path.join(data_dir_benign, benign_folder)}')\n",
        "    adenosis_dir = os.path.join(data_dir_benign, benign_folder)\n",
        "    adenosis = extract_images(adenosis_dir, sizex, sizey)\n",
        "\n",
        "\n",
        "# All malignant types\n",
        "#print(f'Extracting malignant data at {data_dir_malignant}')\n",
        "for malignant_folder in malignant_folders:\n",
        "  if malignant_folder == 'ductal_carcinoma':\n",
        "    print(f'Extracting images for {malignant_folder}')\n",
        "    print(f'Full path is {os.path.join(data_dir_malignant, malignant_folder)}')\n",
        "    ductal_carcinoma_dir = os.path.join(data_dir_malignant, malignant_folder)\n",
        "    ductal_carcinoma = extract_images(ductal_carcinoma_dir, sizex, sizey)\n",
        "  elif malignant_folder == 'papillary_carcinoma':\n",
        "    print(f'Extracting images for {malignant_folder}')\n",
        "    print(f'Full path is {os.path.join(data_dir_malignant, malignant_folder)}')\n",
        "    papillary_carcinoma_dir = os.path.join(data_dir_malignant, malignant_folder)\n",
        "    papillary_carcinoma = extract_images(papillary_carcinoma_dir, sizex, sizey)\n",
        "  elif malignant_folder == 'lobular_carcinoma':\n",
        "    print(f'Extracting images for {malignant_folder}')\n",
        "    print(f'Full path is {os.path.join(data_dir_malignant, malignant_folder)}')\n",
        "    lobular_carcinoma_dir = os.path.join(data_dir_malignant, malignant_folder)\n",
        "    lobular_carcinoma = extract_images(lobular_carcinoma_dir, sizex, sizey)\n",
        "  elif malignant_folder == 'mucinous_carcinoma':\n",
        "    print(f'Extracting images for {malignant_folder}')\n",
        "    print(f'Full path is {os.path.join(data_dir_malignant, malignant_folder)}')\n",
        "    mucinous_carcinoma_dir = os.path.join(data_dir_malignant, malignant_folder)\n",
        "    mucinous_carcinoma = extract_images(mucinous_carcinoma_dir, sizex, sizey)\n"
      ],
      "metadata": {
        "colab": {
          "base_uri": "https://localhost:8080/"
        },
        "id": "7JfkGKENPLRX",
        "outputId": "a48e43f8-5ebe-4968-d50c-a8eb9d9c97fa"
      },
      "execution_count": 44,
      "outputs": [
        {
          "output_type": "stream",
          "name": "stdout",
          "text": [
            " Resizing the image resolution to: (224, 224)\n",
            "Extracting images for fibroadenoma\n",
            "Full path is /content/drive/MyDrive/Datasets/breaKVis/benign/SOB/fibroadenoma\n",
            "(142, 224, 224, 3)\n",
            "(236, 224, 224, 3)\n",
            "(373, 224, 224, 3)\n",
            "(494, 224, 224, 3)\n",
            "(575, 224, 224, 3)\n",
            "(632, 224, 224, 3)\n",
            "(700, 224, 224, 3)\n",
            "(820, 224, 224, 3)\n",
            "(888, 224, 224, 3)\n",
            "(1014, 224, 224, 3)\n",
            "Extracting images for phyllodes_tumor\n",
            "Full path is /content/drive/MyDrive/Datasets/breaKVis/benign/SOB/phyllodes_tumor\n",
            "(235, 224, 224, 3)\n",
            "(393, 224, 224, 3)\n",
            "(453, 224, 224, 3)\n",
            "Extracting images for adenosis\n",
            "Full path is /content/drive/MyDrive/Datasets/breaKVis/benign/SOB/adenosis\n",
            "(121, 224, 224, 3)\n",
            "(253, 224, 224, 3)\n",
            "(383, 224, 224, 3)\n",
            "(444, 224, 224, 3)\n",
            "Extracting images for tubular_adenoma\n",
            "Full path is /content/drive/MyDrive/Datasets/breaKVis/benign/SOB/tubular_adenoma\n",
            "(65, 224, 224, 3)\n",
            "(118, 224, 224, 3)\n",
            "(250, 224, 224, 3)\n",
            "(374, 224, 224, 3)\n",
            "(438, 224, 224, 3)\n",
            "(503, 224, 224, 3)\n",
            "(569, 224, 224, 3)\n",
            "Extracting images for ductal_carcinoma\n",
            "Full path is /content/drive/MyDrive/Datasets/breaKVis/malignant/SOB/ductal_carcinoma\n",
            "(39, 224, 224, 3)\n",
            "(99, 224, 224, 3)\n",
            "(197, 224, 224, 3)\n",
            "(297, 224, 224, 3)\n",
            "(443, 224, 224, 3)\n",
            "(566, 224, 224, 3)\n",
            "(711, 224, 224, 3)\n",
            "(806, 224, 224, 3)\n",
            "(879, 224, 224, 3)\n",
            "(1010, 224, 224, 3)\n",
            "(1090, 224, 224, 3)\n",
            "(1173, 224, 224, 3)\n",
            "(1228, 224, 224, 3)\n",
            "(1315, 224, 224, 3)\n",
            "(1375, 224, 224, 3)\n",
            "(1428, 224, 224, 3)\n",
            "(1473, 224, 224, 3)\n",
            "(1610, 224, 224, 3)\n",
            "(1671, 224, 224, 3)\n",
            "(1800, 224, 224, 3)\n",
            "(1904, 224, 224, 3)\n",
            "(1983, 224, 224, 3)\n",
            "(2091, 224, 224, 3)\n",
            "(2216, 224, 224, 3)\n",
            "(2327, 224, 224, 3)\n",
            "(2402, 224, 224, 3)\n",
            "(2546, 224, 224, 3)\n",
            "(2630, 224, 224, 3)\n",
            "(2689, 224, 224, 3)\n",
            "(2784, 224, 224, 3)\n",
            "(2828, 224, 224, 3)\n",
            "(2912, 224, 224, 3)\n",
            "(3000, 224, 224, 3)\n",
            "(3090, 224, 224, 3)\n",
            "(3180, 224, 224, 3)\n",
            "(3258, 224, 224, 3)\n",
            "(3296, 224, 224, 3)\n",
            "(3451, 224, 224, 3)\n",
            "Extracting images for papillary_carcinoma\n",
            "Full path is /content/drive/MyDrive/Datasets/breaKVis/malignant/SOB/papillary_carcinoma\n",
            "(74, 224, 224, 3)\n",
            "(136, 224, 224, 3)\n",
            "(263, 224, 224, 3)\n",
            "(405, 224, 224, 3)\n",
            "(495, 224, 224, 3)\n",
            "(560, 224, 224, 3)\n",
            "Extracting images for mucinous_carcinoma\n",
            "Full path is /content/drive/MyDrive/Datasets/breaKVis/malignant/SOB/mucinous_carcinoma\n",
            "(64, 224, 224, 3)\n",
            "(154, 224, 224, 3)\n",
            "(273, 224, 224, 3)\n",
            "(328, 224, 224, 3)\n",
            "(506, 224, 224, 3)\n",
            "(568, 224, 224, 3)\n",
            "(632, 224, 224, 3)\n",
            "(730, 224, 224, 3)\n",
            "(792, 224, 224, 3)\n",
            "Extracting images for lobular_carcinoma\n",
            "Full path is /content/drive/MyDrive/Datasets/breaKVis/malignant/SOB/lobular_carcinoma\n",
            "(103, 224, 224, 3)\n",
            "(226, 224, 224, 3)\n",
            "(427, 224, 224, 3)\n",
            "(552, 224, 224, 3)\n",
            "(626, 224, 224, 3)\n"
          ]
        }
      ]
    },
    {
      "cell_type": "code",
      "source": [
        "# Saving benign tumor matrices\n",
        "np.save(os.path.join(data_dir_benign, 'fibroadenoma.npy'), fibroadenoma)\n",
        "np.save(os.path.join(data_dir_benign, 'tubular_adenoma.npy'), tubular_adenoma)\n",
        "np.save(os.path.join(data_dir_benign, 'phyllodes_tumor.npy'), phyllodes_tumor)\n",
        "np.save(os.path.join(data_dir_benign, 'adenosis.npy'), adenosis)\n",
        "\n",
        "# Saving malignant tumor matrices\n",
        "np.save(os.path.join(data_dir_malignant, 'ductal_carcinoma.npy'), ductal_carcinoma)\n",
        "np.save(os.path.join(data_dir_malignant, 'papillary_carcinoma.npy'), papillary_carcinoma)\n",
        "np.save(os.path.join(data_dir_malignant, 'lobular_carcinoma.npy'), lobular_carcinoma)\n",
        "np.save(os.path.join(data_dir_malignant, 'mucinous_carcinoma.npy'), mucinous_carcinoma)"
      ],
      "metadata": {
        "id": "JohCEgaQylkm"
      },
      "execution_count": 50,
      "outputs": []
    },
    {
      "cell_type": "code",
      "source": [
        "# Loading benign tumor matrices\n",
        "fibroadenoma = np.load(os.path.join(data_dir_benign, 'fibroadenoma.npy'))\n",
        "tubular_adenoma = np.load(os.path.join(data_dir_benign, 'tubular_adenoma.npy'))\n",
        "phyllodes_tumor = np.load(os.path.join(data_dir_benign, 'phyllodes_tumor.npy'))\n",
        "adenosis = np.load(os.path.join(data_dir_benign, 'adenosis.npy'))\n",
        "\n",
        "# Loading malignant tumor matrices\n",
        "ductal_carcinoma = np.load(os.path.join(data_dir_malignant, 'ductal_carcinoma.npy'))\n",
        "papillary_carcinoma = np.load(os.path.join(data_dir_malignant, 'papillary_carcinoma.npy'))\n",
        "lobular_carcinoma = np.load(os.path.join(data_dir_malignant, 'lobular_carcinoma.npy'))\n",
        "mucinous_carcinoma = np.load(os.path.join(data_dir_malignant, 'mucinous_carcinoma.npy'))"
      ],
      "metadata": {
        "id": "Iv1N1I04WqCn"
      },
      "execution_count": 7,
      "outputs": []
    },
    {
      "cell_type": "code",
      "source": [
        "fibroadenoma_labels = np.zeros(fibroadenoma.shape[0])\n",
        "tubular_adenoma_labels = np.ones(tubular_adenoma.shape[0])\n",
        "phyllodes_tumor_labels = 2*np.ones(phyllodes_tumor.shape[0])\n",
        "adenosis_labels = 3*np.ones(adenosis.shape[0])\n",
        "ductal_carcinoma_labels = 4*np.ones(ductal_carcinoma.shape[0])\n",
        "papillary_carcinoma_labels = 5*np.ones(papillary_carcinoma.shape[0])\n",
        "lobular_carcinoma_labels = 6*np.ones(lobular_carcinoma.shape[0])\n",
        "mucinous_carcinoma_labels = 7*np.ones(mucinous_carcinoma.shape[0])"
      ],
      "metadata": {
        "id": "wgjjdRtIRt2Z"
      },
      "execution_count": 8,
      "outputs": []
    },
    {
      "cell_type": "code",
      "source": [
        "X = np.concatenate((fibroadenoma, tubular_adenoma, phyllodes_tumor, adenosis, ductal_carcinoma, papillary_carcinoma, lobular_carcinoma, mucinous_carcinoma), axis = 0)\n",
        "y = np.concatenate((fibroadenoma_labels, tubular_adenoma_labels, phyllodes_tumor_labels, adenosis_labels, ductal_carcinoma_labels, papillary_carcinoma_labels, lobular_carcinoma_labels, mucinous_carcinoma_labels), axis = 0)"
      ],
      "metadata": {
        "id": "gGEkebRzTo7s"
      },
      "execution_count": 9,
      "outputs": []
    },
    {
      "cell_type": "code",
      "source": [
        "X = vit.preprocess_inputs(X)\n",
        "print(np.min(X))\n",
        "print(np.max(X))"
      ],
      "metadata": {
        "colab": {
          "base_uri": "https://localhost:8080/"
        },
        "id": "j7kte4dBYa8A",
        "outputId": "c7a9281d-f44c-4915-cb1a-371c96a50cd1"
      },
      "execution_count": 10,
      "outputs": [
        {
          "output_type": "stream",
          "name": "stdout",
          "text": [
            "-1.0\n",
            "1.0\n"
          ]
        }
      ]
    },
    {
      "cell_type": "code",
      "source": [
        "x_train, x_test, y_train, y_test = train_test_split(X, y, test_size = 0.3)"
      ],
      "metadata": {
        "id": "An03R8VcVrFi"
      },
      "execution_count": 11,
      "outputs": []
    },
    {
      "cell_type": "code",
      "source": [
        "IMAGE_SIZE = [X.shape[1], X.shape[1], 3]\n",
        "NUM_CLASSES = 8\n",
        "\n",
        "swin_vit = SwinTransformer('swin_base_224', include_top=False, pretrained=True)\n",
        "\n",
        "model = tf.keras.Sequential()\n",
        "model.add(tf.keras.Input(shape = IMAGE_SIZE))\n",
        "model.add(swin_vit)\n",
        "model.add(tf.keras.layers.Dense(NUM_CLASSES, activation='softmax'))\n",
        "\n",
        "model.build(IMAGE_SIZE)"
      ],
      "metadata": {
        "colab": {
          "base_uri": "https://localhost:8080/"
        },
        "id": "XF5ebXJdWJvG",
        "outputId": "be5a798e-00df-47f4-b191-4166cada60f0"
      },
      "execution_count": 23,
      "outputs": [
        {
          "output_type": "stream",
          "name": "stdout",
          "text": [
            "Downloading data from https://github.com/rishigami/Swin-Transformer-TF/releases/download/v0.1-tf-swin-weights/swin_base_224.tgz\n",
            "321527808/321524991 [==============================] - 27s 0us/step\n",
            "321536000/321524991 [==============================] - 27s 0us/step\n"
          ]
        }
      ]
    },
    {
      "cell_type": "code",
      "source": [
        "model.summary()\n",
        "\n",
        "model.compile(optimizer = tf.keras.optimizers.Adadelta(learning_rate = 0.1), loss = 'sparse_categorical_crossentropy', metrics = ['accuracy'])"
      ],
      "metadata": {
        "colab": {
          "base_uri": "https://localhost:8080/"
        },
        "id": "nXcmTeN7YsF2",
        "outputId": "dcbf878c-ffab-4151-9abd-4a9bed80e8fb"
      },
      "execution_count": 24,
      "outputs": [
        {
          "output_type": "stream",
          "name": "stdout",
          "text": [
            "Model: \"sequential_11\"\n",
            "_________________________________________________________________\n",
            " Layer (type)                Output Shape              Param #   \n",
            "=================================================================\n",
            " swin_base_224 (SwinTransfor  (None, 1024)             87079364  \n",
            " merModel)                                                       \n",
            "                                                                 \n",
            " dense_1 (Dense)             (None, 8)                 8200      \n",
            "                                                                 \n",
            "=================================================================\n",
            "Total params: 87,087,564\n",
            "Trainable params: 86,751,424\n",
            "Non-trainable params: 336,140\n",
            "_________________________________________________________________\n"
          ]
        }
      ]
    },
    {
      "cell_type": "code",
      "source": [
        "model.fit(x_train, y_train, batch_size = 16, epochs = 15, validation_split = 0.10)"
      ],
      "metadata": {
        "colab": {
          "base_uri": "https://localhost:8080/"
        },
        "id": "EN4HkboMYvUN",
        "outputId": "1f7dedb0-f5e1-43de-ff46-375ace77f1b5"
      },
      "execution_count": null,
      "outputs": [
        {
          "output_type": "stream",
          "name": "stdout",
          "text": [
            "Epoch 1/15\n",
            "312/312 [==============================] - 263s 843ms/step - loss: 1.0544 - accuracy: 0.6377 - val_loss: 1.2855 - val_accuracy: 0.6119\n",
            "Epoch 2/15\n",
            "312/312 [==============================] - 264s 845ms/step - loss: 0.3917 - accuracy: 0.8436 - val_loss: 0.3679 - val_accuracy: 0.8718\n",
            "Epoch 3/15\n",
            "312/312 [==============================] - 265s 848ms/step - loss: 0.1833 - accuracy: 0.9295 - val_loss: 0.1819 - val_accuracy: 0.9296\n",
            "Epoch 4/15\n",
            "312/312 [==============================] - 265s 849ms/step - loss: 0.1108 - accuracy: 0.9587 - val_loss: 0.2639 - val_accuracy: 0.9043\n",
            "Epoch 5/15\n",
            "312/312 [==============================] - 265s 849ms/step - loss: 0.0802 - accuracy: 0.9691 - val_loss: 0.1711 - val_accuracy: 0.9368\n",
            "Epoch 6/15\n",
            "312/312 [==============================] - 265s 848ms/step - loss: 0.0451 - accuracy: 0.9811 - val_loss: 0.1991 - val_accuracy: 0.9260\n",
            "Epoch 7/15\n",
            "312/312 [==============================] - 265s 849ms/step - loss: 0.0415 - accuracy: 0.9809 - val_loss: 0.2051 - val_accuracy: 0.9404\n",
            "Epoch 8/15\n",
            "312/312 [==============================] - 265s 848ms/step - loss: 0.0457 - accuracy: 0.9785 - val_loss: 0.1776 - val_accuracy: 0.9386\n",
            "Epoch 9/15\n",
            "312/312 [==============================] - 266s 853ms/step - loss: 0.0330 - accuracy: 0.9833 - val_loss: 0.6943 - val_accuracy: 0.8375\n",
            "Epoch 10/15\n",
            "312/312 [==============================] - 267s 855ms/step - loss: 0.0456 - accuracy: 0.9811 - val_loss: 0.2532 - val_accuracy: 0.9224\n",
            "Epoch 11/15\n",
            "312/312 [==============================] - 266s 854ms/step - loss: 0.0243 - accuracy: 0.9864 - val_loss: 0.2216 - val_accuracy: 0.9350\n",
            "Epoch 12/15\n",
            " 13/312 [>.............................] - ETA: 4:06 - loss: 0.0441 - accuracy: 0.9808"
          ]
        }
      ]
    },
    {
      "cell_type": "code",
      "source": [
        "model.evaluate(x_test, y_test)"
      ],
      "metadata": {
        "colab": {
          "base_uri": "https://localhost:8080/"
        },
        "id": "RDtm4_9qZDQb",
        "outputId": "134f5ee6-61a6-4cc5-e6fe-284f5c69c36c"
      },
      "execution_count": 15,
      "outputs": [
        {
          "output_type": "stream",
          "name": "stdout",
          "text": [
            "75/75 [==============================] - 27s 357ms/step - loss: 0.2587 - accuracy: 0.9250\n"
          ]
        },
        {
          "output_type": "execute_result",
          "data": {
            "text/plain": [
              "[0.2586769163608551, 0.9249894618988037]"
            ]
          },
          "metadata": {},
          "execution_count": 15
        }
      ]
    },
    {
      "cell_type": "code",
      "source": [
        "y_pred = model.predict(x_test)"
      ],
      "metadata": {
        "id": "Gg8l0amBZGV4"
      },
      "execution_count": 16,
      "outputs": []
    },
    {
      "cell_type": "code",
      "source": [
        "y_prob = np.argmax(y_pred, axis = 1)"
      ],
      "metadata": {
        "id": "5BpbFqx2ZJl8"
      },
      "execution_count": 17,
      "outputs": []
    },
    {
      "cell_type": "code",
      "source": [
        "import sklearn"
      ],
      "metadata": {
        "id": "s82dm6DpZMIK"
      },
      "execution_count": 18,
      "outputs": []
    },
    {
      "cell_type": "code",
      "source": [
        "print(f'Accuracy {sklearn.metrics.accuracy_score(y_test, y_prob)}')\n",
        "AUC = sklearn.metrics.roc_auc_score(y_test, y_pred, average = 'weighted', multi_class='ovo')\n",
        "print(f'AUC is {AUC}')\n",
        "target_names = ['fibroadenoma', 'tubular_adenoma', 'phyllodes_tumor', 'adenosis', 'ductal_carcinoma', 'papillary_carcinoma', 'lobular_carcinoma', 'mucinous_carcinoma']\n",
        "print('F1-score', sklearn.metrics.f1_score(y_test, y_prob, average = 'micro'))\n",
        "print(f'Balanced accuracy {sklearn.metrics.balanced_accuracy_score(y_test, y_prob)}')\n",
        "print(f'MCC {sklearn.metrics.matthews_corrcoef(y_test, y_prob)}')\n",
        "print(f'{sklearn.metrics.classification_report(y_test, y_prob, target_names=target_names)}')"
      ],
      "metadata": {
        "colab": {
          "base_uri": "https://localhost:8080/"
        },
        "id": "FC5tA128ZPAk",
        "outputId": "0eb21feb-d7e1-43c3-ad82-aecfe759fccf"
      },
      "execution_count": 22,
      "outputs": [
        {
          "output_type": "stream",
          "name": "stdout",
          "text": [
            "Accuracy 0.9249894648124737\n",
            "AUC is 0.9954316903289664\n",
            "F1-score 0.9249894648124737\n",
            "Balanced accuracy 0.9080819081893987\n",
            "MCC 0.9008130686513462\n",
            "                     precision    recall  f1-score   support\n",
            "\n",
            "       fibroadenoma       0.92      0.93      0.93       305\n",
            "    tubular_adenoma       0.96      0.95      0.96       186\n",
            "    phyllodes_tumor       0.93      0.90      0.91       134\n",
            "           adenosis       0.98      0.97      0.98       125\n",
            "   ductal_carcinoma       0.93      0.96      0.94      1036\n",
            "papillary_carcinoma       0.97      0.93      0.95       160\n",
            "  lobular_carcinoma       0.75      0.72      0.73       191\n",
            " mucinous_carcinoma       0.96      0.91      0.93       236\n",
            "\n",
            "           accuracy                           0.92      2373\n",
            "          macro avg       0.93      0.91      0.92      2373\n",
            "       weighted avg       0.92      0.92      0.92      2373\n",
            "\n"
          ]
        }
      ]
    }
  ]
}