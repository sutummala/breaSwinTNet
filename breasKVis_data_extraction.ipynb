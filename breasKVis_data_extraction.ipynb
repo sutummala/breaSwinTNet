{
  "cells": [
    {
      "cell_type": "markdown",
      "metadata": {
        "id": "view-in-github",
        "colab_type": "text"
      },
      "source": [
        "<a href=\"https://colab.research.google.com/github/sutummala/breaSwinTNet/blob/main/breasKVis_data_extraction.ipynb\" target=\"_parent\"><img src=\"https://colab.research.google.com/assets/colab-badge.svg\" alt=\"Open In Colab\"/></a>"
      ]
    },
    {
      "cell_type": "code",
      "execution_count": null,
      "metadata": {
        "colab": {
          "base_uri": "https://localhost:8080/"
        },
        "id": "b6lel8u9OQL4",
        "outputId": "dd4d0efd-ce11-45e2-a5ea-d6e1d59bda2b"
      },
      "outputs": [
        {
          "name": "stdout",
          "output_type": "stream",
          "text": [
            "\n",
            "WARNING: apt does not have a stable CLI interface. Use with caution in scripts.\n",
            "\n",
            "debconf: unable to initialize frontend: Dialog\n",
            "debconf: (No usable dialog-like program is installed, so the dialog based frontend cannot be used. at /usr/share/perl5/Debconf/FrontEnd/Dialog.pm line 76, <> line 1.)\n",
            "debconf: falling back to frontend: Readline\n",
            "debconf: unable to initialize frontend: Readline\n",
            "debconf: (This frontend requires a controlling tty.)\n",
            "debconf: falling back to frontend: Teletype\n",
            "dpkg-preconfigure: unable to re-open stdin: \n",
            "/usr/bin/xdg-open: 851: /usr/bin/xdg-open: www-browser: not found\n",
            "/usr/bin/xdg-open: 851: /usr/bin/xdg-open: links2: not found\n",
            "/usr/bin/xdg-open: 851: /usr/bin/xdg-open: elinks: not found\n",
            "/usr/bin/xdg-open: 851: /usr/bin/xdg-open: links: not found\n",
            "/usr/bin/xdg-open: 851: /usr/bin/xdg-open: lynx: not found\n",
            "/usr/bin/xdg-open: 851: /usr/bin/xdg-open: w3m: not found\n",
            "xdg-open: no method available for opening 'https://accounts.google.com/o/oauth2/auth?client_id=564921029129.apps.googleusercontent.com&redirect_uri=https%3A%2F%2Fgd-ocaml-auth.appspot.com%2Foauth2callback&scope=https%3A%2F%2Fwww.googleapis.com%2Fauth%2Fdrive&response_type=code&access_type=offline&approval_prompt=force&state=KlsSK%2FXaPwJK%2F6Nyxe1JMVS4mZf0OntJ9OGW8cp3kLo'\n",
            "/bin/sh: 1: firefox: not found\n",
            "/bin/sh: 1: google-chrome: not found\n",
            "/bin/sh: 1: chromium-browser: not found\n",
            "/bin/sh: 1: open: not found\n",
            "Cannot retrieve auth tokens.\n",
            "Failure(\"Error opening URL:https://accounts.google.com/o/oauth2/auth?client_id=564921029129.apps.googleusercontent.com&redirect_uri=https%3A%2F%2Fgd-ocaml-auth.appspot.com%2Foauth2callback&scope=https%3A%2F%2Fwww.googleapis.com%2Fauth%2Fdrive&response_type=code&access_type=offline&approval_prompt=force&state=KlsSK%2FXaPwJK%2F6Nyxe1JMVS4mZf0OntJ9OGW8cp3kLo\")\n"
          ]
        }
      ],
      "source": [
        "!sudo add-apt-repository -y ppa:alessandro-strada/ppa 2>&1 > /dev/null\n",
        "!sudo apt-get update -qq 2>&1 > /dev/null\n",
        "!sudo apt -y install -qq google-drive-ocamlfuse 2>&1 > /dev/null\n",
        "!google-drive-ocamlfuse"
      ]
    },
    {
      "cell_type": "code",
      "execution_count": null,
      "metadata": {
        "colab": {
          "base_uri": "https://localhost:8080/"
        },
        "id": "1wzmv13pOdHy",
        "outputId": "5c4fc509-0108-4b25-f270-016ef44cc455"
      },
      "outputs": [
        {
          "name": "stdout",
          "output_type": "stream",
          "text": [
            "debconf: unable to initialize frontend: Dialog\n",
            "debconf: (No usable dialog-like program is installed, so the dialog based frontend cannot be used. at /usr/share/perl5/Debconf/FrontEnd/Dialog.pm line 76, <> line 2.)\n",
            "debconf: falling back to frontend: Readline\n",
            "debconf: unable to initialize frontend: Readline\n",
            "debconf: (This frontend requires a controlling tty.)\n",
            "debconf: falling back to frontend: Teletype\n",
            "dpkg-preconfigure: unable to re-open stdin: \n",
            "Selecting previously unselected package libgpm2:amd64.\n",
            "(Reading database ... 155207 files and directories currently installed.)\n",
            "Preparing to unpack .../libgpm2_1.20.7-5_amd64.deb ...\n",
            "Unpacking libgpm2:amd64 (1.20.7-5) ...\n",
            "Selecting previously unselected package w3m.\n",
            "Preparing to unpack .../w3m_0.5.3-36build1_amd64.deb ...\n",
            "Unpacking w3m (0.5.3-36build1) ...\n",
            "Setting up libgpm2:amd64 (1.20.7-5) ...\n",
            "Setting up w3m (0.5.3-36build1) ...\n",
            "Processing triggers for mime-support (3.60ubuntu1) ...\n",
            "Processing triggers for libc-bin (2.27-3ubuntu1.3) ...\n",
            "/sbin/ldconfig.real: /usr/local/lib/python3.7/dist-packages/ideep4py/lib/libmkldnn.so.0 is not a symbolic link\n",
            "\n",
            "Processing triggers for man-db (2.8.3-2ubuntu0.1) ...\n",
            "/content\n",
            "/content/drive\n",
            "/content\n",
            "/\n",
            "Access token retrieved correctly.\n"
          ]
        }
      ],
      "source": [
        "!sudo apt-get install -qq w3m # to act as web browser \n",
        "!xdg-settings set default-web-browser w3m.desktop # to set default browser\n",
        "%cd /content\n",
        "!mkdir drive\n",
        "%cd drive\n",
        "!mkdir MyDrive\n",
        "%cd ..\n",
        "%cd ..\n",
        "!google-drive-ocamlfuse /content/drive/MyDrive"
      ]
    },
    {
      "cell_type": "code",
      "execution_count": null,
      "metadata": {
        "colab": {
          "base_uri": "https://localhost:8080/"
        },
        "id": "BQdQPb0DWfBc",
        "outputId": "6fc8849e-2110-460f-e3e0-c35b673269fb"
      },
      "outputs": [
        {
          "name": "stdout",
          "output_type": "stream",
          "text": [
            "Requirement already satisfied: vit-keras in /usr/local/lib/python3.7/dist-packages (0.1.0)\n",
            "Requirement already satisfied: scipy in /usr/local/lib/python3.7/dist-packages (from vit-keras) (1.4.1)\n",
            "Requirement already satisfied: validators in /usr/local/lib/python3.7/dist-packages (from vit-keras) (0.18.2)\n",
            "Requirement already satisfied: numpy>=1.13.3 in /usr/local/lib/python3.7/dist-packages (from scipy->vit-keras) (1.21.6)\n",
            "Requirement already satisfied: six>=1.4.0 in /usr/local/lib/python3.7/dist-packages (from validators->vit-keras) (1.15.0)\n",
            "Requirement already satisfied: decorator>=3.4.0 in /usr/local/lib/python3.7/dist-packages (from validators->vit-keras) (4.4.2)\n",
            "Requirement already satisfied: tensorflow-addons in /usr/local/lib/python3.7/dist-packages (0.16.1)\n",
            "Requirement already satisfied: typeguard>=2.7 in /usr/local/lib/python3.7/dist-packages (from tensorflow-addons) (2.7.1)\n"
          ]
        }
      ],
      "source": [
        "!pip install vit-keras\n",
        "!pip install tensorflow-addons"
      ]
    },
    {
      "cell_type": "code",
      "execution_count": null,
      "metadata": {
        "colab": {
          "base_uri": "https://localhost:8080/"
        },
        "id": "8fVAywZSWZez",
        "outputId": "716ab5b6-c280-4174-f55e-c3de94996dc5"
      },
      "outputs": [
        {
          "name": "stdout",
          "output_type": "stream",
          "text": [
            "fatal: destination path 'Swin-Transformer-TF' already exists and is not an empty directory.\n"
          ]
        }
      ],
      "source": [
        "!git clone https://github.com/rishigami/Swin-Transformer-TF.git"
      ]
    },
    {
      "cell_type": "code",
      "execution_count": null,
      "metadata": {
        "id": "A6FXQfejWVH1"
      },
      "outputs": [],
      "source": [
        "import sys\n",
        "sys.path.append('/content/Swin-Transformer-TF')\n",
        "from swintransformer import SwinTransformer"
      ]
    },
    {
      "cell_type": "code",
      "execution_count": null,
      "metadata": {
        "id": "Vtg0_00dPSDf"
      },
      "outputs": [],
      "source": [
        "import os\n",
        "import numpy as np\n",
        "import cv2\n",
        "import tensorflow as tf\n",
        "from sklearn.model_selection import RepeatedStratifiedKFold, train_test_split\n",
        "from vit_keras import vit, utils, visualize"
      ]
    },
    {
      "cell_type": "code",
      "execution_count": null,
      "metadata": {
        "id": "wF4Y4RjhOu_V"
      },
      "outputs": [],
      "source": [
        "data_dir_benign = '/content/drive/MyDrive/Datasets/breaKVis/benign/SOB'\n",
        "data_dir_malignant = '/content/drive/MyDrive/Datasets/breaKVis/malignant/SOB'"
      ]
    },
    {
      "cell_type": "code",
      "execution_count": null,
      "metadata": {
        "id": "sGm84GJJVjnJ"
      },
      "outputs": [],
      "source": [
        "def extract_images(path, sizex, sizey):\n",
        "  data = []\n",
        "  folders = sorted(os.listdir(path))\n",
        "  for folder in folders:\n",
        "    for final_folder in os.listdir(os.path.join(path, folder)):\n",
        "      for file in os.listdir(os.path.join(path, folder, final_folder)):\n",
        "        mat_file = cv2.imread(os.path.join(path, folder, final_folder, file))\n",
        "        data.append(cv2.resize(mat_file, (sizex, sizey)))\n",
        "    print(np.array(data).shape)\n",
        "  return np.array(data)"
      ]
    },
    {
      "cell_type": "code",
      "execution_count": null,
      "metadata": {
        "colab": {
          "base_uri": "https://localhost:8080/"
        },
        "id": "7JfkGKENPLRX",
        "outputId": "a48e43f8-5ebe-4968-d50c-a8eb9d9c97fa"
      },
      "outputs": [
        {
          "name": "stdout",
          "output_type": "stream",
          "text": [
            " Resizing the image resolution to: (224, 224)\n",
            "Extracting images for fibroadenoma\n",
            "Full path is /content/drive/MyDrive/Datasets/breaKVis/benign/SOB/fibroadenoma\n",
            "(142, 224, 224, 3)\n",
            "(236, 224, 224, 3)\n",
            "(373, 224, 224, 3)\n",
            "(494, 224, 224, 3)\n",
            "(575, 224, 224, 3)\n",
            "(632, 224, 224, 3)\n",
            "(700, 224, 224, 3)\n",
            "(820, 224, 224, 3)\n",
            "(888, 224, 224, 3)\n",
            "(1014, 224, 224, 3)\n",
            "Extracting images for phyllodes_tumor\n",
            "Full path is /content/drive/MyDrive/Datasets/breaKVis/benign/SOB/phyllodes_tumor\n",
            "(235, 224, 224, 3)\n",
            "(393, 224, 224, 3)\n",
            "(453, 224, 224, 3)\n",
            "Extracting images for adenosis\n",
            "Full path is /content/drive/MyDrive/Datasets/breaKVis/benign/SOB/adenosis\n",
            "(121, 224, 224, 3)\n",
            "(253, 224, 224, 3)\n",
            "(383, 224, 224, 3)\n",
            "(444, 224, 224, 3)\n",
            "Extracting images for tubular_adenoma\n",
            "Full path is /content/drive/MyDrive/Datasets/breaKVis/benign/SOB/tubular_adenoma\n",
            "(65, 224, 224, 3)\n",
            "(118, 224, 224, 3)\n",
            "(250, 224, 224, 3)\n",
            "(374, 224, 224, 3)\n",
            "(438, 224, 224, 3)\n",
            "(503, 224, 224, 3)\n",
            "(569, 224, 224, 3)\n",
            "Extracting images for ductal_carcinoma\n",
            "Full path is /content/drive/MyDrive/Datasets/breaKVis/malignant/SOB/ductal_carcinoma\n",
            "(39, 224, 224, 3)\n",
            "(99, 224, 224, 3)\n",
            "(197, 224, 224, 3)\n",
            "(297, 224, 224, 3)\n",
            "(443, 224, 224, 3)\n",
            "(566, 224, 224, 3)\n",
            "(711, 224, 224, 3)\n",
            "(806, 224, 224, 3)\n",
            "(879, 224, 224, 3)\n",
            "(1010, 224, 224, 3)\n",
            "(1090, 224, 224, 3)\n",
            "(1173, 224, 224, 3)\n",
            "(1228, 224, 224, 3)\n",
            "(1315, 224, 224, 3)\n",
            "(1375, 224, 224, 3)\n",
            "(1428, 224, 224, 3)\n",
            "(1473, 224, 224, 3)\n",
            "(1610, 224, 224, 3)\n",
            "(1671, 224, 224, 3)\n",
            "(1800, 224, 224, 3)\n",
            "(1904, 224, 224, 3)\n",
            "(1983, 224, 224, 3)\n",
            "(2091, 224, 224, 3)\n",
            "(2216, 224, 224, 3)\n",
            "(2327, 224, 224, 3)\n",
            "(2402, 224, 224, 3)\n",
            "(2546, 224, 224, 3)\n",
            "(2630, 224, 224, 3)\n",
            "(2689, 224, 224, 3)\n",
            "(2784, 224, 224, 3)\n",
            "(2828, 224, 224, 3)\n",
            "(2912, 224, 224, 3)\n",
            "(3000, 224, 224, 3)\n",
            "(3090, 224, 224, 3)\n",
            "(3180, 224, 224, 3)\n",
            "(3258, 224, 224, 3)\n",
            "(3296, 224, 224, 3)\n",
            "(3451, 224, 224, 3)\n",
            "Extracting images for papillary_carcinoma\n",
            "Full path is /content/drive/MyDrive/Datasets/breaKVis/malignant/SOB/papillary_carcinoma\n",
            "(74, 224, 224, 3)\n",
            "(136, 224, 224, 3)\n",
            "(263, 224, 224, 3)\n",
            "(405, 224, 224, 3)\n",
            "(495, 224, 224, 3)\n",
            "(560, 224, 224, 3)\n",
            "Extracting images for mucinous_carcinoma\n",
            "Full path is /content/drive/MyDrive/Datasets/breaKVis/malignant/SOB/mucinous_carcinoma\n",
            "(64, 224, 224, 3)\n",
            "(154, 224, 224, 3)\n",
            "(273, 224, 224, 3)\n",
            "(328, 224, 224, 3)\n",
            "(506, 224, 224, 3)\n",
            "(568, 224, 224, 3)\n",
            "(632, 224, 224, 3)\n",
            "(730, 224, 224, 3)\n",
            "(792, 224, 224, 3)\n",
            "Extracting images for lobular_carcinoma\n",
            "Full path is /content/drive/MyDrive/Datasets/breaKVis/malignant/SOB/lobular_carcinoma\n",
            "(103, 224, 224, 3)\n",
            "(226, 224, 224, 3)\n",
            "(427, 224, 224, 3)\n",
            "(552, 224, 224, 3)\n",
            "(626, 224, 224, 3)\n"
          ]
        }
      ],
      "source": [
        "benign_folders = os.listdir(data_dir_benign)\n",
        "malignant_folders = os.listdir(data_dir_malignant)\n",
        "sizex, sizey = 224, 224\n",
        "\n",
        "print(f' Resizing the image resolution to: {sizex, sizey}')\n",
        "\n",
        "# All benign types\n",
        "#print(f'Extracting benign data at {data_dir_benign}')\n",
        "for benign_folder in benign_folders:\n",
        "  if benign_folder == 'fibroadenoma':\n",
        "    print(f'Extracting images for {benign_folder}')\n",
        "    print(f'Full path is {os.path.join(data_dir_benign, benign_folder)}')\n",
        "    fibroadenoma_dir = os.path.join(data_dir_benign, benign_folder)\n",
        "    fibroadenoma = extract_images(fibroadenoma_dir, sizex, sizey)\n",
        "  elif benign_folder == 'tubular_adenoma':\n",
        "    print(f'Extracting images for {benign_folder}')\n",
        "    print(f'Full path is {os.path.join(data_dir_benign, benign_folder)}')\n",
        "    tubular_adenoma_dir = os.path.join(data_dir_benign, benign_folder)\n",
        "    tubular_adenoma = extract_images(tubular_adenoma_dir, sizex, sizey)\n",
        "  elif benign_folder == 'phyllodes_tumor':\n",
        "    print(f'Extracting images for {benign_folder}')\n",
        "    print(f'Full path is {os.path.join(data_dir_benign, benign_folder)}')\n",
        "    phyllodes_tumor_dir = os.path.join(data_dir_benign, benign_folder)\n",
        "    phyllodes_tumor = extract_images(phyllodes_tumor_dir, sizex, sizey)\n",
        "  elif benign_folder == 'adenosis':\n",
        "    print(f'Extracting images for {benign_folder}')\n",
        "    print(f'Full path is {os.path.join(data_dir_benign, benign_folder)}')\n",
        "    adenosis_dir = os.path.join(data_dir_benign, benign_folder)\n",
        "    adenosis = extract_images(adenosis_dir, sizex, sizey)\n",
        "\n",
        "\n",
        "# All malignant types\n",
        "#print(f'Extracting malignant data at {data_dir_malignant}')\n",
        "for malignant_folder in malignant_folders:\n",
        "  if malignant_folder == 'ductal_carcinoma':\n",
        "    print(f'Extracting images for {malignant_folder}')\n",
        "    print(f'Full path is {os.path.join(data_dir_malignant, malignant_folder)}')\n",
        "    ductal_carcinoma_dir = os.path.join(data_dir_malignant, malignant_folder)\n",
        "    ductal_carcinoma = extract_images(ductal_carcinoma_dir, sizex, sizey)\n",
        "  elif malignant_folder == 'papillary_carcinoma':\n",
        "    print(f'Extracting images for {malignant_folder}')\n",
        "    print(f'Full path is {os.path.join(data_dir_malignant, malignant_folder)}')\n",
        "    papillary_carcinoma_dir = os.path.join(data_dir_malignant, malignant_folder)\n",
        "    papillary_carcinoma = extract_images(papillary_carcinoma_dir, sizex, sizey)\n",
        "  elif malignant_folder == 'lobular_carcinoma':\n",
        "    print(f'Extracting images for {malignant_folder}')\n",
        "    print(f'Full path is {os.path.join(data_dir_malignant, malignant_folder)}')\n",
        "    lobular_carcinoma_dir = os.path.join(data_dir_malignant, malignant_folder)\n",
        "    lobular_carcinoma = extract_images(lobular_carcinoma_dir, sizex, sizey)\n",
        "  elif malignant_folder == 'mucinous_carcinoma':\n",
        "    print(f'Extracting images for {malignant_folder}')\n",
        "    print(f'Full path is {os.path.join(data_dir_malignant, malignant_folder)}')\n",
        "    mucinous_carcinoma_dir = os.path.join(data_dir_malignant, malignant_folder)\n",
        "    mucinous_carcinoma = extract_images(mucinous_carcinoma_dir, sizex, sizey)\n"
      ]
    },
    {
      "cell_type": "code",
      "execution_count": null,
      "metadata": {
        "id": "JohCEgaQylkm"
      },
      "outputs": [],
      "source": [
        "# Saving benign tumor matrices\n",
        "np.save(os.path.join(data_dir_benign, 'fibroadenoma.npy'), fibroadenoma)\n",
        "np.save(os.path.join(data_dir_benign, 'tubular_adenoma.npy'), tubular_adenoma)\n",
        "np.save(os.path.join(data_dir_benign, 'phyllodes_tumor.npy'), phyllodes_tumor)\n",
        "np.save(os.path.join(data_dir_benign, 'adenosis.npy'), adenosis)\n",
        "\n",
        "# Saving malignant tumor matrices\n",
        "np.save(os.path.join(data_dir_malignant, 'ductal_carcinoma.npy'), ductal_carcinoma)\n",
        "np.save(os.path.join(data_dir_malignant, 'papillary_carcinoma.npy'), papillary_carcinoma)\n",
        "np.save(os.path.join(data_dir_malignant, 'lobular_carcinoma.npy'), lobular_carcinoma)\n",
        "np.save(os.path.join(data_dir_malignant, 'mucinous_carcinoma.npy'), mucinous_carcinoma)"
      ]
    },
    {
      "cell_type": "code",
      "execution_count": null,
      "metadata": {
        "id": "Iv1N1I04WqCn"
      },
      "outputs": [],
      "source": [
        "# Loading benign tumor matrices\n",
        "fibroadenoma = np.load(os.path.join(data_dir_benign, 'fibroadenoma.npy'))\n",
        "tubular_adenoma = np.load(os.path.join(data_dir_benign, 'tubular_adenoma.npy'))\n",
        "phyllodes_tumor = np.load(os.path.join(data_dir_benign, 'phyllodes_tumor.npy'))\n",
        "adenosis = np.load(os.path.join(data_dir_benign, 'adenosis.npy'))\n",
        "\n",
        "# Loading malignant tumor matrices\n",
        "ductal_carcinoma = np.load(os.path.join(data_dir_malignant, 'ductal_carcinoma.npy'))\n",
        "papillary_carcinoma = np.load(os.path.join(data_dir_malignant, 'papillary_carcinoma.npy'))\n",
        "lobular_carcinoma = np.load(os.path.join(data_dir_malignant, 'lobular_carcinoma.npy'))\n",
        "mucinous_carcinoma = np.load(os.path.join(data_dir_malignant, 'mucinous_carcinoma.npy'))"
      ]
    },
    {
      "cell_type": "code",
      "execution_count": null,
      "metadata": {
        "id": "wgjjdRtIRt2Z"
      },
      "outputs": [],
      "source": [
        "fibroadenoma_labels = np.zeros(fibroadenoma.shape[0])\n",
        "tubular_adenoma_labels = np.ones(tubular_adenoma.shape[0])\n",
        "phyllodes_tumor_labels = 2*np.ones(phyllodes_tumor.shape[0])\n",
        "adenosis_labels = 3*np.ones(adenosis.shape[0])\n",
        "ductal_carcinoma_labels = 4*np.ones(ductal_carcinoma.shape[0])\n",
        "papillary_carcinoma_labels = 5*np.ones(papillary_carcinoma.shape[0])\n",
        "lobular_carcinoma_labels = 6*np.ones(lobular_carcinoma.shape[0])\n",
        "mucinous_carcinoma_labels = 7*np.ones(mucinous_carcinoma.shape[0])"
      ]
    },
    {
      "cell_type": "code",
      "execution_count": null,
      "metadata": {
        "id": "gGEkebRzTo7s"
      },
      "outputs": [],
      "source": [
        "X = np.concatenate((fibroadenoma, tubular_adenoma, phyllodes_tumor, adenosis, ductal_carcinoma, papillary_carcinoma, lobular_carcinoma, mucinous_carcinoma), axis = 0)\n",
        "y = np.concatenate((fibroadenoma_labels, tubular_adenoma_labels, phyllodes_tumor_labels, adenosis_labels, ductal_carcinoma_labels, papillary_carcinoma_labels, lobular_carcinoma_labels, mucinous_carcinoma_labels), axis = 0)"
      ]
    },
    {
      "cell_type": "code",
      "execution_count": null,
      "metadata": {
        "id": "obYtJfIRuYKG"
      },
      "outputs": [],
      "source": [
        "benign_labels = np.zeros(len(fibroadenoma_labels)+len(tubular_adenoma_labels)+len(phyllodes_tumor_labels)+len(adenosis_labels))\n",
        "malignant_labels = np.ones(len(ductal_carcinoma_labels)+len(papillary_carcinoma_labels)+len(lobular_carcinoma_labels)+len(mucinous_carcinoma_labels))"
      ]
    },
    {
      "cell_type": "code",
      "execution_count": null,
      "metadata": {
        "id": "lDqKky-QvEYB"
      },
      "outputs": [],
      "source": [
        "y_2class = np.concatenate((benign_labels, malignant_labels))"
      ]
    },
    {
      "cell_type": "code",
      "execution_count": null,
      "metadata": {
        "colab": {
          "base_uri": "https://localhost:8080/"
        },
        "id": "V3ZRHzkStcD9",
        "outputId": "a1756d2d-6ea9-4ff1-b1e7-75f05fe4c940"
      },
      "outputs": [
        {
          "name": "stdout",
          "output_type": "stream",
          "text": [
            "number of samples are 7909\n"
          ]
        }
      ],
      "source": [
        "print(f'number of samples are {X.shape[0]}')"
      ]
    },
    {
      "cell_type": "code",
      "execution_count": null,
      "metadata": {
        "colab": {
          "base_uri": "https://localhost:8080/"
        },
        "id": "j7kte4dBYa8A",
        "outputId": "b630d887-adb4-4222-fd01-78eed53d8f81"
      },
      "outputs": [
        {
          "name": "stdout",
          "output_type": "stream",
          "text": [
            "-1.0\n",
            "1.0\n"
          ]
        }
      ],
      "source": [
        "X = vit.preprocess_inputs(X)\n",
        "print(np.min(X))\n",
        "print(np.max(X))"
      ]
    },
    {
      "cell_type": "code",
      "execution_count": null,
      "metadata": {
        "id": "An03R8VcVrFi"
      },
      "outputs": [],
      "source": [
        "x_train, x_test, y_train, y_test = train_test_split(X, y, test_size = 0.3)"
      ]
    },
    {
      "cell_type": "code",
      "execution_count": null,
      "metadata": {
        "id": "9fhilDoSSzup"
      },
      "outputs": [],
      "source": [
        "# Saving 2 class \n",
        "np.save('/content/drive/MyDrive/Datasets/breaKVis/8class_all_data/x_train.npy', x_train)\n",
        "np.save('/content/drive/MyDrive/Datasets/breaKVis/8class_all_data/y_train.npy', y_train)\n",
        "np.save('/content/drive/MyDrive/Datasets/breaKVis/8class_all_data/x_test.npy', x_test)\n",
        "np.save('/content/drive/MyDrive/Datasets/breaKVis/8class_all_data/y_test.npy', y_test)"
      ]
    },
    {
      "cell_type": "code",
      "execution_count": 31,
      "metadata": {
        "id": "44ZPdfge1nTy"
      },
      "outputs": [],
      "source": [
        "# Load 2 class\n",
        "x_train = np.load('/content/drive/MyDrive/Datasets/breaKVis/8class_all_data/x_train.npy')\n",
        "y_train = np.load('/content/drive/MyDrive/Datasets/breaKVis/8class_all_data/y_train.npy')\n",
        "x_test = np.load('/content/drive/MyDrive/Datasets/breaKVis/8class_all_data/x_test.npy')\n",
        "y_test = np.load('/content/drive/MyDrive/Datasets/breaKVis/8class_all_data/y_test.npy')"
      ]
    },
    {
      "cell_type": "code",
      "execution_count": 37,
      "metadata": {
        "id": "XF5ebXJdWJvG"
      },
      "outputs": [],
      "source": [
        "IMAGE_SIZE = [x_train.shape[1], x_train.shape[1], 3]\n",
        "NUM_CLASSES = 8\n",
        "\n",
        "swin_vit = SwinTransformer('swin_tiny_224', include_top=False, pretrained=True)\n",
        "\n",
        "model = tf.keras.Sequential()\n",
        "model.add(tf.keras.Input(shape = IMAGE_SIZE))\n",
        "model.add(swin_vit)\n",
        "model.add(tf.keras.layers.Dense(NUM_CLASSES, activation='softmax'))\n",
        "\n",
        "model.build(IMAGE_SIZE)"
      ]
    },
    {
      "cell_type": "code",
      "execution_count": 38,
      "metadata": {
        "colab": {
          "base_uri": "https://localhost:8080/"
        },
        "id": "nXcmTeN7YsF2",
        "outputId": "6ac7c076-b137-4e06-f5e3-6d3f996e7145"
      },
      "outputs": [
        {
          "output_type": "stream",
          "name": "stdout",
          "text": [
            "Model: \"sequential_41\"\n",
            "_________________________________________________________________\n",
            " Layer (type)                Output Shape              Param #   \n",
            "=================================================================\n",
            " swin_tiny_224 (SwinTransfor  (None, 768)              27769058  \n",
            " merModel)                                                       \n",
            "                                                                 \n",
            " dense_6 (Dense)             (None, 8)                 6152      \n",
            "                                                                 \n",
            "=================================================================\n",
            "Total params: 27,775,210\n",
            "Trainable params: 27,525,506\n",
            "Non-trainable params: 249,704\n",
            "_________________________________________________________________\n"
          ]
        }
      ],
      "source": [
        "model.summary()\n",
        "\n",
        "model.compile(optimizer = tf.keras.optimizers.Adadelta(learning_rate = 0.1), loss = 'sparse_categorical_crossentropy', metrics = ['accuracy'])"
      ]
    },
    {
      "cell_type": "code",
      "execution_count": null,
      "metadata": {
        "colab": {
          "base_uri": "https://localhost:8080/"
        },
        "id": "EN4HkboMYvUN",
        "outputId": "5d94c114-44a7-423b-8e9f-424e2821335a"
      },
      "outputs": [
        {
          "output_type": "stream",
          "name": "stdout",
          "text": [
            "Epoch 1/15\n",
            "156/156 [==============================] - 95s 479ms/step - loss: 1.2518 - accuracy: 0.5721 - val_loss: 1.2247 - val_accuracy: 0.6029\n",
            "Epoch 2/15\n",
            "156/156 [==============================] - 71s 456ms/step - loss: 0.5695 - accuracy: 0.7844 - val_loss: 0.7084 - val_accuracy: 0.7491\n",
            "Epoch 3/15\n",
            "156/156 [==============================] - 71s 457ms/step - loss: 0.2953 - accuracy: 0.8896 - val_loss: 0.4269 - val_accuracy: 0.8303\n",
            "Epoch 4/15\n",
            "156/156 [==============================] - 71s 457ms/step - loss: 0.1922 - accuracy: 0.9265 - val_loss: 0.3910 - val_accuracy: 0.8574\n",
            "Epoch 5/15\n",
            "156/156 [==============================] - 71s 456ms/step - loss: 0.1190 - accuracy: 0.9558 - val_loss: 0.2723 - val_accuracy: 0.8989\n",
            "Epoch 6/15\n",
            "156/156 [==============================] - 71s 457ms/step - loss: 0.0862 - accuracy: 0.9671 - val_loss: 0.4101 - val_accuracy: 0.8845\n",
            "Epoch 7/15\n",
            "156/156 [==============================] - 71s 456ms/step - loss: 0.0652 - accuracy: 0.9733 - val_loss: 0.2694 - val_accuracy: 0.9007\n",
            "Epoch 8/15\n",
            "156/156 [==============================] - 71s 456ms/step - loss: 0.0606 - accuracy: 0.9733 - val_loss: 0.3196 - val_accuracy: 0.8881\n",
            "Epoch 9/15\n",
            "156/156 [==============================] - 71s 456ms/step - loss: 0.0561 - accuracy: 0.9791 - val_loss: 0.3619 - val_accuracy: 0.8809\n",
            "Epoch 10/15\n",
            "156/156 [==============================] - 71s 456ms/step - loss: 0.0459 - accuracy: 0.9809 - val_loss: 0.2985 - val_accuracy: 0.9116\n",
            "Epoch 11/15\n",
            "156/156 [==============================] - 71s 455ms/step - loss: 0.0497 - accuracy: 0.9807 - val_loss: 0.3208 - val_accuracy: 0.8863\n",
            "Epoch 12/15\n",
            "156/156 [==============================] - 71s 456ms/step - loss: 0.0464 - accuracy: 0.9795 - val_loss: 0.2687 - val_accuracy: 0.9134\n",
            "Epoch 13/15\n",
            " 49/156 [========>.....................] - ETA: 46s - loss: 0.0316 - accuracy: 0.9834"
          ]
        }
      ],
      "source": [
        "model.fit(x_train, y_train, batch_size = 32, epochs = 15, validation_split = 0.10)"
      ]
    },
    {
      "cell_type": "code",
      "execution_count": 36,
      "metadata": {
        "colab": {
          "base_uri": "https://localhost:8080/"
        },
        "id": "RDtm4_9qZDQb",
        "outputId": "45482648-e706-444e-ad22-bba01e175db6"
      },
      "outputs": [
        {
          "output_type": "stream",
          "name": "stdout",
          "text": [
            "75/75 [==============================] - 22s 290ms/step - loss: 0.3877 - sparse_categorical_accuracy: 0.9073\n"
          ]
        },
        {
          "output_type": "execute_result",
          "data": {
            "text/plain": [
              "[0.38773515820503235, 0.9072903394699097]"
            ]
          },
          "metadata": {},
          "execution_count": 36
        }
      ],
      "source": [
        "model.evaluate(x_test, y_test)"
      ]
    },
    {
      "cell_type": "code",
      "execution_count": null,
      "metadata": {
        "colab": {
          "base_uri": "https://localhost:8080/"
        },
        "id": "pkk2O3LuQ76J",
        "outputId": "3f3c9607-c5a0-4563-c6db-e1dc13a1a3d4"
      },
      "outputs": [
        {
          "name": "stderr",
          "output_type": "stream",
          "text": [
            "WARNING:absl:Found untraced functions such as proj_layer_call_fn, proj_layer_call_and_return_conditional_losses, norm_layer_call_fn, norm_layer_call_and_return_conditional_losses, patch_merging_layer_call_fn while saving (showing 5 of 598). These functions will not be directly callable after loading.\n"
          ]
        },
        {
          "name": "stdout",
          "output_type": "stream",
          "text": [
            "INFO:tensorflow:Assets written to: /content/drive/MyDrive/Datasets/breaKVis/trained_models/svit_large_224_2class_allX/assets\n"
          ]
        },
        {
          "name": "stderr",
          "output_type": "stream",
          "text": [
            "INFO:tensorflow:Assets written to: /content/drive/MyDrive/Datasets/breaKVis/trained_models/svit_large_224_2class_allX/assets\n"
          ]
        }
      ],
      "source": [
        "model.save('/content/drive/MyDrive/Datasets/breaKVis/trained_models/svit_tiny_224_8class_allX')"
      ]
    },
    {
      "cell_type": "code",
      "execution_count": null,
      "metadata": {
        "id": "Hhlr0Pa6y4lB"
      },
      "outputs": [],
      "source": [
        "model_tiny = tf.keras.models.load_model('/content/drive/MyDrive/Datasets/breaKVis/trained_models/svit_tiny_224_2class_allX')\n",
        "model_small = tf.keras.models.load_model('/content/drive/MyDrive/Datasets/breaKVis/trained_models/svit_small_224_2class_allX')\n",
        "model_base = tf.keras.models.load_model('/content/drive/MyDrive/Datasets/breaKVis/trained_models/svit_base_224_2class_allX')\n",
        "model_large = tf.keras.models.load_model('/content/drive/MyDrive/Datasets/breaKVis/trained_models/svit_large_224_2class_allX')"
      ]
    },
    {
      "cell_type": "code",
      "execution_count": null,
      "metadata": {
        "id": "Gg8l0amBZGV4"
      },
      "outputs": [],
      "source": [
        "y_pred_tiny = model_tiny.predict(x_test)\n",
        "y_pred_small = model_small.predict(x_test)\n",
        "y_pred_base = model_base.predict(x_test)\n",
        "y_pred_large = model_large.predict(x_test)"
      ]
    },
    {
      "cell_type": "code",
      "execution_count": null,
      "metadata": {
        "colab": {
          "base_uri": "https://localhost:8080/"
        },
        "id": "J_WTkfP1feMx",
        "outputId": "c96e8f64-0848-4461-e3cf-e7a646bd1d2b"
      },
      "outputs": [
        {
          "name": "stdout",
          "output_type": "stream",
          "text": [
            "[1.10597284e-07 9.99999881e-01]\n"
          ]
        }
      ],
      "source": [
        "y_pred = np.zeros(np.shape(y_pred_tiny))\n",
        "\n",
        "for i in range(len(y_test)):\n",
        "  y_pred[i, :] = 0.25*(y_pred_tiny[i, :] + y_pred_small[i, :] + y_pred_base[i, :] + y_pred_large[i, :])\n",
        "\n",
        "print(y_pred[0, :])"
      ]
    },
    {
      "cell_type": "code",
      "execution_count": null,
      "metadata": {
        "id": "5BpbFqx2ZJl8"
      },
      "outputs": [],
      "source": [
        "y_prob = np.argmax(y_pred, axis = 1)"
      ]
    },
    {
      "cell_type": "code",
      "execution_count": null,
      "metadata": {
        "id": "s82dm6DpZMIK"
      },
      "outputs": [],
      "source": [
        "import sklearn\n",
        "import matplotlib.pyplot as plt"
      ]
    },
    {
      "cell_type": "code",
      "execution_count": null,
      "metadata": {
        "colab": {
          "base_uri": "https://localhost:8080/"
        },
        "id": "FC5tA128ZPAk",
        "outputId": "87ffcaf9-703d-4dbb-89eb-647d12c9a4a9"
      },
      "outputs": [
        {
          "name": "stdout",
          "output_type": "stream",
          "text": [
            "Accuracy 0.9953645174884113\n",
            "AUC is 0.9938321418460948\n",
            "F1-score 0.9953645174884113\n",
            "Balanced accuracy 0.9938321418460947\n",
            "MCC 0.9893760591289376\n",
            "              precision    recall  f1-score   support\n",
            "\n",
            "     beningn       1.00      0.99      0.99       764\n",
            "   malignant       1.00      1.00      1.00      1609\n",
            "\n",
            "    accuracy                           1.00      2373\n",
            "   macro avg       1.00      0.99      0.99      2373\n",
            "weighted avg       1.00      1.00      1.00      2373\n",
            "\n"
          ]
        }
      ],
      "source": [
        "print(f'Accuracy {sklearn.metrics.accuracy_score(y_test, y_prob)}')\n",
        "AUC = sklearn.metrics.roc_auc_score(y_test, y_prob, average = 'weighted', multi_class='ovr')\n",
        "print(f'AUC is {AUC}')\n",
        "target_names = ['beningn', 'malignant']\n",
        "#target_names = ['fibroadenoma', 'tubular_adenoma', 'phyllodes_tumor', 'adenosis', 'ductal_carcinoma', 'papillary_carcinoma', 'lobular_carcinoma', 'mucinous_carcinoma']\n",
        "print('F1-score', sklearn.metrics.f1_score(y_test, y_prob, average = 'micro'))\n",
        "print(f'Balanced accuracy {sklearn.metrics.balanced_accuracy_score(y_test, y_prob)}')\n",
        "print(f'MCC {sklearn.metrics.matthews_corrcoef(y_test, y_prob)}')\n",
        "print(f'{sklearn.metrics.classification_report(y_test, y_prob, target_names=target_names)}')"
      ]
    },
    {
      "cell_type": "code",
      "execution_count": null,
      "metadata": {
        "colab": {
          "base_uri": "https://localhost:8080/",
          "height": 323
        },
        "id": "bP2wcxZakTa9",
        "outputId": "70403551-437d-41c9-9f2a-454514477b85"
      },
      "outputs": [
        {
          "data": {
            "image/png": "[encoded data removed]",
            "text/plain": [
              "<Figure size 432x288 with 2 Axes>"
            ]
          },
          "metadata": {},
          "output_type": "display_data"
        }
      ],
      "source": [
        "cm = sklearn.metrics.confusion_matrix(y_test, y_prob)\n",
        "sklearn.metrics.ConfusionMatrixDisplay.from_predictions(y_test, y_prob, include_values = 'True', display_labels=target_names, xticks_rotation='vertical', cmap = 'YlGnBu')\n",
        "plt.show()"
      ]
    }
  ],
  "metadata": {
    "accelerator": "GPU",
    "colab": {
      "collapsed_sections": [],
      "machine_shape": "hm",
      "name": "breasKVis_data_extraction.ipynb",
      "provenance": [],
      "authorship_tag": "ABX9TyMjUIRMx0tJTvEPascYrw+2",
      "include_colab_link": true
    },
    "kernelspec": {
      "display_name": "Python 3",
      "name": "python3"
    },
    "language_info": {
      "name": "python"
    }
  },
  "nbformat": 4,
  "nbformat_minor": 0
}